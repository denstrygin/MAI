{
 "cells": [
  {
   "cell_type": "markdown",
   "metadata": {},
   "source": [
    "## Лабораторная работа по курсу \"Искусственный интеллект\"\n",
    "## Многослойный персептрон\n",
    "\n",
    "| Студент | Стрыгин |\n",
    "|---------|--------|\n",
    "| Группа  | 406      |"
   ]
  },
  {
   "cell_type": "markdown",
   "metadata": {},
   "source": [
    "Импорт необходимых пакетов/модулей"
   ]
  },
  {
   "cell_type": "code",
   "execution_count": 1,
   "metadata": {},
   "outputs": [],
   "source": [
    "import tensorflow as tf\n",
    "import numpy as np\n",
    "import matplotlib.pyplot as plt\n",
    "import pickle\n",
    "from sklearn.model_selection import train_test_split\n",
    "import libperceptron as lp\n",
    "import normlibperceptron as nlp"
   ]
  },
  {
   "cell_type": "markdown",
   "metadata": {},
   "source": [
    "#### Формирование выборок\n",
    "(Использую tensorflow лишь для датасетов)\n",
    "<br>Используйте Scikit Learn для разбиения данных на обучающую и тестовую выборку</br>"
   ]
  },
  {
   "cell_type": "code",
   "execution_count": 2,
   "metadata": {},
   "outputs": [],
   "source": [
    "fashion_mnist = tf.keras.datasets.fashion_mnist\n",
    "cifar_10 = tf.keras.datasets.cifar10\n",
    "(x_train_fashionMnist, y_train_fashionMnist), (x_test_fashionMnist, y_test_fashionMnist) = fashion_mnist.load_data()\n",
    "with open('mnist.pkl','rb') as f:\n",
    "    MNIST = pickle.load(f)\n",
    "x_mnist = MNIST['Train']['Features']\n",
    "y_mnist = MNIST['Train']['Labels']\n",
    "x_train_mnist, x_test_mnist, y_train_mnist, y_test_mnist = train_test_split(x_mnist, y_mnist, train_size = 0.7)\n",
    "x_train_mnist, x_test_mnist = x_train_mnist.reshape(x_train_mnist.shape[0], 784).astype('float32') / 255.0, x_test_mnist.reshape(x_test_mnist.shape[0], 784).astype('float32') / 255.0\n",
    "x_train_fashionMnist, x_test_fashionMnist = x_train_fashionMnist.reshape(60000, 784).astype('float32') / 255.0, x_test_fashionMnist.reshape(10000, 784).astype('float32') / 255.0"
   ]
  },
  {
   "cell_type": "markdown",
   "metadata": {},
   "source": [
    "Функция для отображения графиков"
   ]
  },
  {
   "cell_type": "code",
   "execution_count": 3,
   "metadata": {},
   "outputs": [],
   "source": [
    "def grafics(model):\n",
    "    plt.title(\"Accurancy\")\n",
    "    plt.plot(model[0])\n",
    "    plt.show()\n",
    "    plt.title(\"Loss\")\n",
    "    plt.plot(model[1])\n",
    "    plt.show()"
   ]
  },
  {
   "cell_type": "markdown",
   "metadata": {},
   "source": [
    "### Формирования слоя нейронов, инициализация весов"
   ]
  },
  {
   "cell_type": "code",
   "execution_count": 4,
   "metadata": {
    "scrolled": false
   },
   "outputs": [],
   "source": [
    "bias = np.arange(0.1, 1.1, 0.1, dtype = 'float32')\n",
    "weights = np.random.sample((10, 784))\n",
    "network = lp.MyNeuralNetwork(weights, bias)\n",
    "network.add_neuron(0, network.weights[0], network.bias[0])\n",
    "network.add_neuron(0, network.weights[1], network.bias[1])\n",
    "network.add_neuron(0, network.weights[2], network.bias[2])\n",
    "network.add_neuron(0, network.weights[3], network.bias[3])\n",
    "network.add_neuron(0, network.weights[4], network.bias[4])\n",
    "network.add_neuron(0, network.weights[5], network.bias[5])\n",
    "network.add_neuron(0, network.weights[6], network.bias[6])\n",
    "network.add_neuron(0, network.weights[7], network.bias[7])\n",
    "network.add_neuron(0, network.weights[8], network.bias[8])\n",
    "network.add_neuron(0, network.weights[9], network.bias[9])"
   ]
  },
  {
   "cell_type": "markdown",
   "metadata": {},
   "source": [
    "Обучение нейросети"
   ]
  },
  {
   "cell_type": "code",
   "execution_count": 5,
   "metadata": {},
   "outputs": [
    {
     "name": "stdout",
     "output_type": "stream",
     "text": [
      "Initial accurancy:  0.08371033028334297\n",
      "Latest accurancy:  0.8850981325895438\n",
      "Mean Loss:  0.6133897\n"
     ]
    }
   ],
   "source": [
    "model = network.train(x_train_mnist, y_train_mnist, \"nope\", 200, 0.5)"
   ]
  },
  {
   "cell_type": "markdown",
   "metadata": {},
   "source": [
    "Отрисовка графиков"
   ]
  },
  {
   "cell_type": "code",
   "execution_count": 6,
   "metadata": {},
   "outputs": [
    {
     "data": {
      "image/png": "[encoded data removed]",
      "text/plain": [
       "<Figure size 432x288 with 1 Axes>"
      ]
     },
     "metadata": {
      "needs_background": "light"
     },
     "output_type": "display_data"
    },
    {
     "data": {
      "image/png": "[encoded data removed]",
      "text/plain": [
       "<Figure size 432x288 with 1 Axes>"
      ]
     },
     "metadata": {
      "needs_background": "light"
     },
     "output_type": "display_data"
    }
   ],
   "source": [
    "grafics(model)"
   ]
  },
  {
   "cell_type": "markdown",
   "metadata": {},
   "source": [
    "Результаты тестовой выборки"
   ]
  },
  {
   "cell_type": "code",
   "execution_count": 7,
   "metadata": {},
   "outputs": [
    {
     "name": "stdout",
     "output_type": "stream",
     "text": [
      "Test accurancy:  0.8788985001190381\n"
     ]
    }
   ],
   "source": [
    "model = network.test(x_test_mnist, y_test_mnist, \"nope\")"
   ]
  },
  {
   "cell_type": "markdown",
   "metadata": {},
   "source": [
    "Многослойная сеть"
   ]
  },
  {
   "cell_type": "code",
   "execution_count": 8,
   "metadata": {},
   "outputs": [
    {
     "name": "stdout",
     "output_type": "stream",
     "text": [
      "Initial loss=2.30587469186718, accuracy=0.13347392768461513: \n",
      "Final loss=0.24609415367946713, accuracy=0.9276846151229634: \n",
      "Test loss=0.28094177194797304, accuracy=0.9183398143004523: \n"
     ]
    }
   ],
   "source": [
    "net = nlp.Net()\n",
    "net.add(nlp.Linear(784, 20))\n",
    "net.add(nlp.Tanh())\n",
    "net.add(nlp.Linear(20, 10))\n",
    "net.add(nlp.Softmax())\n",
    "loss = nlp.CrossEntropyLoss()\n",
    "\n",
    "print(\"Initial loss={}, accuracy={}: \".format(*nlp.get_loss_acc(net, x_train_mnist, y_train_mnist)))\n",
    "nlp.train_epoch(net, x_train_mnist, y_train_mnist)\n",
    "print(\"Final loss={}, accuracy={}: \".format(*nlp.get_loss_acc(net, x_train_mnist, y_train_mnist)))\n",
    "print(\"Test loss={}, accuracy={}: \".format(*nlp.get_loss_acc(net, x_test_mnist, y_test_mnist)))"
   ]
  },
  {
   "cell_type": "markdown",
   "metadata": {},
   "source": [
    "Анализ FashionMnist с активационной функцией Сигмоида"
   ]
  },
  {
   "cell_type": "code",
   "execution_count": 9,
   "metadata": {},
   "outputs": [
    {
     "name": "stdout",
     "output_type": "stream",
     "text": [
      "Initial loss=2.427669126528626, accuracy=0.048683333333333335: \n",
      "Final loss=0.3435731387798071, accuracy=0.8756666666666667: \n",
      "Test loss=0.42495510737032466, accuracy=0.8532: \n"
     ]
    }
   ],
   "source": [
    "net_FM = nlp.Net()\n",
    "net_FM.add(nlp.Linear(784, 20))\n",
    "net_FM.add(nlp.Sigmoid())\n",
    "net_FM.add(nlp.Linear(20, 10))\n",
    "net_FM.add(nlp.Softmax())\n",
    "loss = nlp.CrossEntropyLoss()\n",
    "print(\"Initial loss={}, accuracy={}: \".format(*nlp.get_loss_acc(net_FM, x_train_fashionMnist, y_train_fashionMnist)))\n",
    "nlp.train_epochs(net_FM, x_train_fashionMnist, y_train_fashionMnist, loss, 4, 0.1, 10)\n",
    "print(\"Final loss={}, accuracy={}: \".format(*nlp.get_loss_acc(net_FM, x_train_fashionMnist, y_train_fashionMnist)))\n",
    "print(\"Test loss={}, accuracy={}: \".format(*nlp.get_loss_acc(net_FM, x_test_fashionMnist, y_test_fashionMnist)))"
   ]
  }
 ],
 "metadata": {
  "kernelspec": {
   "display_name": "Python 3 (ipykernel)",
   "language": "python",
   "name": "python3"
  },
  "language_info": {
   "codemirror_mode": {
    "name": "ipython",
    "version": 3
   },
   "file_extension": ".py",
   "mimetype": "text/x-python",
   "name": "python",
   "nbconvert_exporter": "python",
   "pygments_lexer": "ipython3",
   "version": "3.9.5"
  },
  "vscode": {
   "interpreter": {
    "hash": "732228fb4b4b6c9f0ec81a6315778359f02d66c92f285e6d579176fa6751798f"
   }
  }
 },
 "nbformat": 4,
 "nbformat_minor": 4
}

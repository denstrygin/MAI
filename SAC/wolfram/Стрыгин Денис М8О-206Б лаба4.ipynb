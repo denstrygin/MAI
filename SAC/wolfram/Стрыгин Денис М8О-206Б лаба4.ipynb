{
 "cells": [
  {
   "cell_type": "markdown",
   "id": "59caf350",
   "metadata": {},
   "source": [
    "# Задание 1 - исследование ф-ии"
   ]
  },
  {
   "cell_type": "code",
   "execution_count": 5,
   "id": "91f0320f",
   "metadata": {},
   "outputs": [],
   "source": [
    "tasks = {\n",
    "    Sin[2*x^3]^2/x^3\n",
    "    , (x^2 - 4)*Sin[(Pi*(x^2))/6] / (x^2 - 1)\n",
    "    , Sqrt[Abs[3*x^3 + 2*x^2 - 10*x]] / (4*x)\n",
    "    , 1/2 * Log[Sqrt[x^2 + 1] / Sqrt[x^2 - 1]]\n",
    "    , (x^3 - x^2 - x + 1)^(1/3) / Tan[x]\n",
    "    , 2*Log[(x - 1) / x] + 1\n",
    "    , Log[x - 1] / (x - 1)^2\n",
    "};"
   ]
  },
  {
   "cell_type": "code",
   "execution_count": 6,
   "id": "bc7570a9",
   "metadata": {},
   "outputs": [],
   "source": [
    "getVariantForNumber[number_, variationsQuo_]:=(\n",
    "    Module[{t},\n",
    "        t = Mod[number , variationsQuo];\n",
    "        If[t != 0\n",
    "                , t\n",
    "                , variationsQuo\n",
    "            ]\n",
    "    ]\n",
    ")"
   ]
  },
  {
   "cell_type": "code",
   "execution_count": 7,
   "id": "872aae1f",
   "metadata": {},
   "outputs": [
    {
     "name": "stdout",
     "output_type": "stream",
     "text": [
      "4\r\n"
     ]
    }
   ],
   "source": [
    "yourNumber = 25;\n",
    "numberOfYourTask = getVariantForNumber[yourNumber, Length[tasks]];\n",
    "Print[numberOfYourTask]"
   ]
  },
  {
   "cell_type": "code",
   "execution_count": 10,
   "id": "282261c2",
   "metadata": {},
   "outputs": [],
   "source": [
    "f[y_] := tasks[[numberOfYourTask]]/.x->y;"
   ]
  },
  {
   "cell_type": "markdown",
   "id": "3452af0b",
   "metadata": {},
   "source": [
    "# Построение графика"
   ]
  },
  {
   "cell_type": "code",
   "execution_count": 11,
   "id": "ae429c73",
   "metadata": {},
   "outputs": [
    {
     "data": {
      "text/html": [
       "<div><img alt=\"Output\" src=\"data:image/png;base64,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\"></div>"
      ],
      "text/plain": [
       "-Graphics-"
      ]
     },
     "execution_count": 11,
     "metadata": {
      "text/html": [],
      "text/plain": []
     },
     "output_type": "execute_result"
    }
   ],
   "source": [
    "Plot[f[x], {x, -10, 10}]"
   ]
  },
  {
   "cell_type": "markdown",
   "id": "592a7fe3",
   "metadata": {},
   "source": [
    "x<sup>2</sup> - 1 > 0\n",
    "<br>D(y): (-&infin;; -1)&cup;(1;&infin;)</br>"
   ]
  },
  {
   "cell_type": "markdown",
   "id": "edd9f471",
   "metadata": {},
   "source": [
    "# Исследование на чётность"
   ]
  },
  {
   "cell_type": "code",
   "execution_count": 12,
   "id": "ab59a35e",
   "metadata": {},
   "outputs": [
    {
     "data": {
      "text/html": [
       "<div><pre style=\"&#102;&#111;&#110;&#116;&#45;&#102;&#97;&#109;&#105;&#108;&#121;&#58;&#32;&#34;&#67;&#111;&#117;&#114;&#105;&#101;&#114;&#32;&#78;&#101;&#119;&#34;&#44;&#67;&#111;&#117;&#114;&#105;&#101;&#114;&#44;&#109;&#111;&#110;&#111;&#115;&#112;&#97;&#99;&#101;&#59;\">&#1060;&#1091;&#1085;&#1082;&#1094;&#1080;&#1103;&#32;&#1095;&#1077;&#1090;&#1085;&#1072;&#1103;</pre></div>"
      ],
      "text/plain": [
       "Функция четная"
      ]
     },
     "execution_count": 12,
     "metadata": {
      "text/html": [],
      "text/plain": []
     },
     "output_type": "execute_result"
    }
   ],
   "source": [
    "If[TautologyQ[f[x] == f[-x]],\"Функция четная\", Null]\n",
    "If[TautologyQ[f[x] + f[-x] == 0],\"Функция нечетная\", Null]"
   ]
  },
  {
   "cell_type": "markdown",
   "id": "e6277d3e",
   "metadata": {},
   "source": [
    "# Исследование на переодичность"
   ]
  },
  {
   "cell_type": "code",
   "execution_count": 14,
   "id": "5be33e40",
   "metadata": {},
   "outputs": [
    {
     "data": {
      "text/html": [
       "<div><img alt=\"Output\" src=\"data:image/png;base64,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\"></div>"
      ],
      "text/plain": [
       "{{T -> 0}, {T -> -2 x}}"
      ]
     },
     "execution_count": 14,
     "metadata": {
      "text/html": [],
      "text/plain": []
     },
     "output_type": "execute_result"
    }
   ],
   "source": [
    "Solve[f[x+T] == f[x], T]"
   ]
  },
  {
   "cell_type": "markdown",
   "id": "70acc8bd",
   "metadata": {},
   "source": [
    "Найденые решения 0 и и ф-ия говорят о том что исходная ф-ия непериодическая"
   ]
  },
  {
   "cell_type": "markdown",
   "id": "3bc1177b",
   "metadata": {},
   "source": [
    "# Точки пересечения с осями координат"
   ]
  },
  {
   "cell_type": "code",
   "execution_count": 11,
   "id": "fa91421a",
   "metadata": {},
   "outputs": [
    {
     "data": {
      "text/html": [
       "<div><pre style=\"&#102;&#111;&#110;&#116;&#45;&#102;&#97;&#109;&#105;&#108;&#121;&#58;&#32;&#34;&#67;&#111;&#117;&#114;&#105;&#101;&#114;&#32;&#78;&#101;&#119;&#34;&#44;&#67;&#111;&#117;&#114;&#105;&#101;&#114;&#44;&#109;&#111;&#110;&#111;&#115;&#112;&#97;&#99;&#101;&#59;\">&#123;&#125;</pre></div>"
      ],
      "text/plain": [
       "{}"
      ]
     },
     "execution_count": 11,
     "metadata": {
      "text/html": [],
      "text/plain": []
     },
     "output_type": "execute_result"
    }
   ],
   "source": [
    "Solve[f[x] == 0, x]"
   ]
  },
  {
   "cell_type": "code",
   "execution_count": 12,
   "id": "9faf80a9",
   "metadata": {},
   "outputs": [
    {
     "name": "stdout",
     "output_type": "stream",
     "text": [
      "   1\r\n",
      "(-(-) I) Pi\r\n",
      "   4\r\n"
     ]
    }
   ],
   "source": [
    "Print[f[0]]"
   ]
  },
  {
   "cell_type": "markdown",
   "id": "ad496e22",
   "metadata": {},
   "source": [
    "y(0), y<sup>-1</sup>(0) - нет решений на поле R &rArr; точек пересечения графика с осями координат нет"
   ]
  },
  {
   "cell_type": "markdown",
   "id": "419f5d1f",
   "metadata": {},
   "source": [
    "# Промежутки знакопостоянства"
   ]
  },
  {
   "cell_type": "code",
   "execution_count": 13,
   "id": "bf6a5568",
   "metadata": {},
   "outputs": [
    {
     "data": {
      "text/html": [
       "<div><img alt=\"Output\" src=\"data:image/png;base64,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\"></div>"
      ],
      "text/plain": [
       "-Graphics-"
      ]
     },
     "execution_count": 17,
     "metadata": {
      "text/html": [],
      "text/plain": []
     },
     "output_type": "execute_result"
    }
   ],
   "source": [
    "g1 = Graphics[Line[{{0,0}, {20,0}}]];\n",
    "g2 = Graphics[Text[Style[\"-oo\", 24], {0.1, 1}]];\n",
    "g3 = Graphics[Text[Style[\"+oo\", 24], {19.9, 1}]];\n",
    "If[f[2] > 0, g4 = Graphics[Text[Style[\"+\", 24], {10, 1}]], g4 = Graphics[Text[Style[\"-\", 24], {10, 1}]]];\n",
    "Show[{g1, g2, g3, g4}, ImageSize->{500, 100}]"
   ]
  },
  {
   "cell_type": "markdown",
   "id": "543829f0",
   "metadata": {},
   "source": [
    "# Промежутки возрастания/убывания ф-ии"
   ]
  },
  {
   "cell_type": "code",
   "execution_count": 18,
   "id": "6424a588",
   "metadata": {},
   "outputs": [
    {
     "data": {
      "text/html": [
       "<style>\n",
       "\t\t\t\t\t\t\t\t\t\t\t\t\t.grid-container {\n",
       "\t\t\t\t\t\t\t\t\t\t\t\t\t\tdisplay: inline-grid;\n",
       "\t\t\t\t\t\t\t\t\t\t\t\t\t\tgrid-template-columns: auto;\n",
       "\t\t\t\t\t\t\t\t\t\t\t\t\t}\n",
       "\t\t\t\t\t\t\t\t\t\t\t\t</style>\n",
       "\n",
       "\t\t\t\t\t\t\t\t\t\t\t\t<div><div class=\"grid-container\"><div class=\"grid-item\"><pre style=\"&#102;&#111;&#110;&#116;&#45;&#102;&#97;&#109;&#105;&#108;&#121;&#58;&#32;&#34;&#67;&#111;&#117;&#114;&#105;&#101;&#114;&#32;&#78;&#101;&#119;&#34;&#44;&#67;&#111;&#117;&#114;&#105;&#101;&#114;&#44;&#109;&#111;&#110;&#111;&#115;&#112;&#97;&#99;&#101;&#59;\">&#123;&#123;&#48;&#125;&#125;</pre></div><div class=\"grid-item\"><pre style=\"&#102;&#111;&#110;&#116;&#45;&#102;&#97;&#109;&#105;&#108;&#121;&#58;&#32;&#34;&#67;&#111;&#117;&#114;&#105;&#101;&#114;&#32;&#78;&#101;&#119;&#34;&#44;&#67;&#111;&#117;&#114;&#105;&#101;&#114;&#44;&#109;&#111;&#110;&#111;&#115;&#112;&#97;&#99;&#101;&#59;\">&#123;&#123;&#48;&#46;&#48;&#48;&#49;&#48;&#48;&#48;&#49;&#125;&#125;</pre></div><div class=\"grid-item\"><pre style=\"&#102;&#111;&#110;&#116;&#45;&#102;&#97;&#109;&#105;&#108;&#121;&#58;&#32;&#34;&#67;&#111;&#117;&#114;&#105;&#101;&#114;&#32;&#78;&#101;&#119;&#34;&#44;&#67;&#111;&#117;&#114;&#105;&#101;&#114;&#44;&#109;&#111;&#110;&#111;&#115;&#112;&#97;&#99;&#101;&#59;\">&#123;&#123;&#45;&#48;&#46;&#48;&#48;&#49;&#48;&#48;&#48;&#49;&#125;&#125;</pre></div></div></div>"
      ],
      "text/plain": [
       "{{0}}\n",
       "{{0.0010001}}\n",
       "{{-0.0010001}}"
      ]
     },
     "execution_count": 19,
     "metadata": {
      "text/html": [],
      "text/plain": []
     },
     "output_type": "execute_result"
    }
   ],
   "source": [
    "sols = Solve[f'[x] == 0, x];\n",
    "points = {x} /. sols\n",
    "f'[N[points]-10]\n",
    "f'[N[points]+10]"
   ]
  },
  {
   "cell_type": "code",
   "execution_count": 22,
   "id": "29011eff",
   "metadata": {},
   "outputs": [
    {
     "data": {
      "text/html": [
       "<div><img alt=\"Output\" src=\"data:image/png;base64,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\"></div>"
      ],
      "text/plain": [
       "-Graphics-"
      ]
     },
     "execution_count": 28,
     "metadata": {
      "text/html": [],
      "text/plain": []
     },
     "output_type": "execute_result"
    }
   ],
   "source": [
    "g1 = Graphics[Line[{{0,0}, {20,0}}]];\n",
    "g2 = Graphics[Text[Style[\"-oo\", 24], {0.1, 1}]];\n",
    "g3 = Graphics[Text[Style[\"0\", 24], {10, 1}]];\n",
    "g4 = Graphics[Text[Style[\"+oo\", 24], {19.9, 1}]];\n",
    "g5 = Graphics[Arrow[{{3,1}, {8,3}}]];\n",
    "g6 = Graphics[Arrow[{{13,3}, {18,1}}]];\n",
    "Show[{g1, g2, g3, g4, g5, g6}, ImageSize->{500, 100}]"
   ]
  },
  {
   "cell_type": "markdown",
   "id": "0b0caf35",
   "metadata": {},
   "source": [
    "# Точки максимума/минимума ф-ии"
   ]
  },
  {
   "cell_type": "markdown",
   "id": "08917641",
   "metadata": {},
   "source": [
    "Так как точка 0 не попадает в <br>D(y): (-&infin;; -1)&cup;(1;&infin;)</br>, то максимума и минимума не существует"
   ]
  },
  {
   "cell_type": "markdown",
   "id": "0d50aa28",
   "metadata": {},
   "source": [
    "# Исследование точек разрыва"
   ]
  },
  {
   "cell_type": "code",
   "execution_count": 30,
   "id": "c86cfd4f",
   "metadata": {},
   "outputs": [
    {
     "data": {
      "text/html": [
       "<style>\n",
       "\t\t\t\t\t\t\t\t\t\t\t\t\t.grid-container {\n",
       "\t\t\t\t\t\t\t\t\t\t\t\t\t\tdisplay: inline-grid;\n",
       "\t\t\t\t\t\t\t\t\t\t\t\t\t\tgrid-template-columns: auto;\n",
       "\t\t\t\t\t\t\t\t\t\t\t\t\t}\n",
       "\t\t\t\t\t\t\t\t\t\t\t\t</style>\n",
       "\n",
       "\t\t\t\t\t\t\t\t\t\t\t\t<div><div class=\"grid-container\"><div class=\"grid-item\"><pre style=\"&#102;&#111;&#110;&#116;&#45;&#102;&#97;&#109;&#105;&#108;&#121;&#58;&#32;&#34;&#67;&#111;&#117;&#114;&#105;&#101;&#114;&#32;&#78;&#101;&#119;&#34;&#44;&#67;&#111;&#117;&#114;&#105;&#101;&#114;&#44;&#109;&#111;&#110;&#111;&#115;&#112;&#97;&#99;&#101;&#59;\">&#48;</pre></div><div class=\"grid-item\"><pre style=\"&#102;&#111;&#110;&#116;&#45;&#102;&#97;&#109;&#105;&#108;&#121;&#58;&#32;&#34;&#67;&#111;&#117;&#114;&#105;&#101;&#114;&#32;&#78;&#101;&#119;&#34;&#44;&#67;&#111;&#117;&#114;&#105;&#101;&#114;&#44;&#109;&#111;&#110;&#111;&#115;&#112;&#97;&#99;&#101;&#59;\">&#48;</pre></div></div></div>"
      ],
      "text/plain": [
       "0\n",
       "0"
      ]
     },
     "execution_count": 30,
     "metadata": {
      "text/html": [],
      "text/plain": []
     },
     "output_type": "execute_result"
    }
   ],
   "source": [
    "Limit[f[x], x->+\\[Infinity]]\n",
    "Limit[f[x], x->-\\[Infinity]]"
   ]
  },
  {
   "cell_type": "code",
   "execution_count": 32,
   "id": "a81f3038",
   "metadata": {},
   "outputs": [
    {
     "data": {
      "text/html": [
       "<style>\n",
       "\t\t\t\t\t\t\t\t\t\t\t\t\t.grid-container {\n",
       "\t\t\t\t\t\t\t\t\t\t\t\t\t\tdisplay: inline-grid;\n",
       "\t\t\t\t\t\t\t\t\t\t\t\t\t\tgrid-template-columns: auto;\n",
       "\t\t\t\t\t\t\t\t\t\t\t\t\t}\n",
       "\t\t\t\t\t\t\t\t\t\t\t\t</style>\n",
       "\n",
       "\t\t\t\t\t\t\t\t\t\t\t\t<div><div class=\"grid-container\"><div class=\"grid-item\"><img alt=\"Output\" src=\"data:image/png;base64,iVBORw0KGgoAAAANSUhEUgAAABAAAAAaCAIAAAAxCktQAAAAznpUWHRSYXcgcHJvZmlsZSB0eXBlIGV4aWYAAHjaXU9hroMhCPvvKd4RELDocfw2l+wGO/7qdHlxJNJSC4Q0Xs9H+puhWZKXqGiAMLx5005SZcXCLO2TdyFfcugp9613SuX/A2Pr16kHFmr9GSS6iM0N5Oa7YQ8yXfp34bX92ms9B5kcEVWOG35rt1AU5HBmV4lAI6+JlICiUgIP3AAaM+4qfiMORLANMR3WZ+MMHXG6R4JRuM8TbL5sndiY1biPNdvNrDC7Nb1Y28czz3kDS/RavxhmCO4AAAAJcEhZcwAAEnQAABJ0Ad5mH3gAAAA8dEVYdFNvZnR3YXJlAENyZWF0ZWQgd2l0aCB0aGUgV29sZnJhbSBMYW5ndWFnZSA6IHd3dy53b2xmcmFtLmNvbVyipoUAAAAhdEVYdENyZWF0aW9uIFRpbWUAMjAyMTowOToyNCAxMDozNTo0ObwBX5sAAAEYSURBVDiN7ZMhj4MwGIbfLdODpHIo3BSCKjKFGeEPQIKdQeOwU+Bx84hpLGZ+2RyqmRiuneAPfCd6x3F35uZ2yT2m+b72Sd98aWdEhGeYP3X6X/i7wkIv1+t1t9sxxgDYtr3f7xljZVm2bQtAKZVlWRzHAEBEl8tlu91KKYloLPM8L4qCPkjTtK5rIoIuTqcTTSiKgnNOX9GdBQAhxGazmQb1PO9nesaYUmoOwDRNIcR0736/n8/nb4JSijEGImqaJoqi8WopJeeccz7NWdd1nufvkcIwHIYhCALf9wEcj8fD4WBZVpIkrusahnG73R6PR1VVAGbjjxNCdF23XC7X67Werx533/er1cpxHN35FH7JC76lFxTeAI9puNzBq0TyAAAAAElFTkSuQmCC\"></div><div class=\"grid-item\"><img alt=\"Output\" src=\"data:image/png;base64,iVBORw0KGgoAAAANSUhEUgAAABAAAAAaCAIAAAAxCktQAAAAznpUWHRSYXcgcHJvZmlsZSB0eXBlIGV4aWYAAHjaXU9hroMhCPvvKd4RELDocfw2l+wGO/7qdHlxJNJSC4Q0Xs9H+puhWZKXqGiAMLx5005SZcXCLO2TdyFfcugp9613SuX/A2Pr16kHFmr9GSS6iM0N5Oa7YQ8yXfp34bX92ms9B5kcEVWOG35rt1AU5HBmV4lAI6+JlICiUgIP3AAaM+4qfiMORLANMR3WZ+MMHXG6R4JRuM8TbL5sndiY1biPNdvNrDC7Nb1Y28czz3kDS/RavxhmCO4AAAAJcEhZcwAAEnQAABJ0Ad5mH3gAAAA8dEVYdFNvZnR3YXJlAENyZWF0ZWQgd2l0aCB0aGUgV29sZnJhbSBMYW5ndWFnZSA6IHd3dy53b2xmcmFtLmNvbVyipoUAAAAhdEVYdENyZWF0aW9uIFRpbWUAMjAyMTowOToyNCAxMDozNTo0ObwBX5sAAAEYSURBVDiN7ZMhj4MwGIbfLdODpHIo3BSCKjKFGeEPQIKdQeOwU+Bx84hpLGZ+2RyqmRiuneAPfCd6x3F35uZ2yT2m+b72Sd98aWdEhGeYP3X6X/i7wkIv1+t1t9sxxgDYtr3f7xljZVm2bQtAKZVlWRzHAEBEl8tlu91KKYloLPM8L4qCPkjTtK5rIoIuTqcTTSiKgnNOX9GdBQAhxGazmQb1PO9nesaYUmoOwDRNIcR0736/n8/nb4JSijEGImqaJoqi8WopJeeccz7NWdd1nufvkcIwHIYhCALf9wEcj8fD4WBZVpIkrusahnG73R6PR1VVAGbjjxNCdF23XC7X67Werx533/er1cpxHN35FH7JC76lFxTeAI9puNzBq0TyAAAAAElFTkSuQmCC\"></div></div></div>"
      ],
      "text/plain": [
       "Infinity\n",
       "Infinity"
      ]
     },
     "execution_count": 32,
     "metadata": {
      "text/html": [],
      "text/plain": []
     },
     "output_type": "execute_result"
    }
   ],
   "source": [
    "Limit[f[x], x->-1]\n",
    "Limit[f[x], x->1]"
   ]
  },
  {
   "cell_type": "markdown",
   "id": "decd3670",
   "metadata": {},
   "source": [
    "График функции терпит разрыв на промежутке (-1, 1), классификация разрыва - неустронимый"
   ]
  },
  {
   "cell_type": "markdown",
   "id": "83633392",
   "metadata": {},
   "source": [
    "# Ассимптоты"
   ]
  },
  {
   "cell_type": "code",
   "execution_count": 35,
   "id": "816645e7",
   "metadata": {},
   "outputs": [
    {
     "data": {
      "text/html": [
       "<div><img alt=\"Output\" src=\"data:image/png;base64,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\"></div>"
      ],
      "text/plain": [
       "-Graphics-"
      ]
     },
     "execution_count": 35,
     "metadata": {
      "text/html": [],
      "text/plain": []
     },
     "output_type": "execute_result"
    }
   ],
   "source": [
    "Plot[f[x], {x, -10, 10}, GridLines->{{-1,1}, {0}}, GridLinesStyle->Directive[Thick, Red]]"
   ]
  }
 ],
 "metadata": {
  "kernelspec": {
   "display_name": "Wolfram Language 12.3",
   "language": "Wolfram Language",
   "name": "wolframlanguage12.3"
  },
  "language_info": {
   "codemirror_mode": "mathematica",
   "file_extension": ".m",
   "mimetype": "application/vnd.wolfram.m",
   "name": "Wolfram Language",
   "pygments_lexer": "mathematica",
   "version": "12.0"
  }
 },
 "nbformat": 4,
 "nbformat_minor": 5
}

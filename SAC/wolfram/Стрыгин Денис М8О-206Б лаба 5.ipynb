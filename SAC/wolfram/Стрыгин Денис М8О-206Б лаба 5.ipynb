{
 "cells": [
  {
   "cell_type": "code",
   "execution_count": 12,
   "id": "0932fc56",
   "metadata": {},
   "outputs": [],
   "source": []
  },
  {
   "cell_type": "code",
   "execution_count": 15,
   "id": "12462db2",
   "metadata": {},
   "outputs": [],
   "source": [
    "getgcd[poly1_, poly2_]:=\n",
    "        Module[\n",
    "            {p1=poly1, p2=poly2, xval=1, xxval=0, yval=0, yyval=1, q, r},\n",
    "            While[\n",
    "                Length[CoefficientList[p2, x]] != 0,\n",
    "                    q = PolynomialQuotient[p1, p2, x];\n",
    "                    r = PolynomialRemainder[p1, p2, x];\n",
    "                    {p1, p2} = {p2, r};\n",
    "                    {xval, xxval} = {xxval, (xval - xxval*q) // ExpandAll};\n",
    "                    {yval, yyval} = {yyval, (yval - yyval*q) // ExpandAll};\n",
    "                    \n",
    "            ];\n",
    "            {xval, yval, p1}\n",
    "        ];"
   ]
  },
  {
   "cell_type": "code",
   "execution_count": 16,
   "id": "82e6a26b",
   "metadata": {},
   "outputs": [],
   "source": [
    "mygcd = getgcd[f[x], g[x]];"
   ]
  },
  {
   "cell_type": "code",
   "execution_count": 17,
   "id": "bf293cb1",
   "metadata": {},
   "outputs": [
    {
     "data": {
      "text/html": [
       "<div><img alt=\"Output\" src=\"data:image/png;base64,iVBORw0KGgoAAAANSUhEUgAAADAAAAAaCAIAAAB+V0iAAAAA0HpUWHRSYXcgcHJvZmlsZSB0eXBlIGV4aWYAAHjabU/bDcMgDPxnio4ANpxhHJIQqRt0/B6PpkrVk7CP89u11/N0jw4J3sVkGQXwRCyxSCXJfmL64MuwA7pC/N90F+rSK6X0DaAtfbvrhukl/zTysib1CeQaV8FqpDL1z8Bt5UvN+d7o2nU1yNfqf/9RTZAQLNJG8WYo5NmR0iGJT4YTO8DEgEN83OkbzFgG6xlae2GHNLtnNwelcPQTtL+glb7QivIqWiEPiqEU2RjVkdPPeQNO3lrADfQcXQAAAAlwSFlzAAASdAAAEnQB3mYfeAAAADx0RVh0U29mdHdhcmUAQ3JlYXRlZCB3aXRoIHRoZSBXb2xmcmFtIExhbmd1YWdlIDogd3d3LndvbGZyYW0uY29tXKKmhQAAACF0RVh0Q3JlYXRpb24gVGltZQAyMDIxOjA5OjIzIDIyOjE2OjI5eeIJIAAAAhhJREFUSIntVrGOqkAUvbuxlhB6CmgtjBoKYkWCJPzAaGOsKPwACz7ACD+AjbWQ+AMTExuJ0U4Sa0KMJQnhC9hiNrxZ2NXHZt218FTM3HOHM2dm7sxLlmXwSHj9awFFPAXdwsMJqgGA67rn8/krBs/z/X7/9xRlWaZp2hWCpmnZL6IGAKPRSFEU8vvNZoMx1jQt7+F5/t6m0KgBQGFFMMaKokwmkwI1DMPVaiXLcrfbDcNwvV6nadpoNHRdzzm2bQMAnUuyyuuej8DzvCRJgiC8BwqOWZYFAJZllc3cbrckRDg5EEI5pzwmySqsu2mahdkul8t/S1YJs9ksSRJRFA3DSNPUcRzP84bDIe3Tddi2PZ1ORVFECDEME0WR67qDwaBer+u6XtmhQnQ+n9M9Nx2K45hl2U6nE8dxzjkej7nTlR0yTZPeIqqqWpYly/J/ph8OhyRJOI5bLBZ0P8uynue5rltZEMMwdFMQhPL2v4LT6QQAGGOM8aeEyoJ+BHRZKeDugi6XC90kVa3dbn/l613usjAMyYfv++PxmA5JkgQAjuMEQfBp7g87hBDyPK/X6xmGEUWR4zgsy9IEQRAIp9lsIoRarVYeIiX3O4WxHKIPMK1AFEVypOnCGMcxQqg8GTLyS/bxCev7/m63exf7EfTVccUk+k5QVZXjONu2y1dHEAT7/T5N04JDRUF/jod7oD0F3cJT0C28AZb7PPHULbKeAAAAAElFTkSuQmCC\"></div>"
      ],
      "text/plain": [
       "True"
      ]
     },
     "execution_count": 17,
     "metadata": {
      "text/html": [],
      "text/plain": []
     },
     "output_type": "execute_result"
    }
   ],
   "source": [
    "Simplify[mygcd[[3]]] == Simplify[f[x]*mygcd[[1]]+mygcd[[2]]*g[x]]"
   ]
  },
  {
   "cell_type": "code",
   "execution_count": 18,
   "id": "188b851b",
   "metadata": {},
   "outputs": [],
   "source": [
    "normgcd[poly_, x_] := Simplify[poly / CoefficientList[poly, x]//Last];"
   ]
  },
  {
   "cell_type": "code",
   "execution_count": 19,
   "id": "490b4f93",
   "metadata": {},
   "outputs": [
    {
     "ename": "Power::infy",
     "evalue": "                    1\nInfinite expression - encountered.\n                    0",
     "output_type": "error",
     "traceback": [
      "\u001b[0;31m                                 1\nPower::infy: Infinite expression - encountered.\n                                 0\u001b[0m"
     ]
    },
    {
     "ename": "Power::infy",
     "evalue": "                    1\nInfinite expression - encountered.\n                    0",
     "output_type": "error",
     "traceback": [
      "\u001b[0;31m                                 1\nPower::infy: Infinite expression - encountered.\n                                 0\u001b[0m"
     ]
    }
   ],
   "source": [
    "gcd = normgcd[mygcd[[3]], x];"
   ]
  },
  {
   "cell_type": "code",
   "execution_count": 20,
   "id": "3582e650",
   "metadata": {},
   "outputs": [
    {
     "data": {
      "text/html": [
       "<style>\n",
       "\t\t\t\t\t\t\t\t\t\t\t\t\t.grid-container {\n",
       "\t\t\t\t\t\t\t\t\t\t\t\t\t\tdisplay: inline-grid;\n",
       "\t\t\t\t\t\t\t\t\t\t\t\t\t\tgrid-template-columns: auto;\n",
       "\t\t\t\t\t\t\t\t\t\t\t\t\t}\n",
       "\t\t\t\t\t\t\t\t\t\t\t\t</style>\n",
       "\n",
       "\t\t\t\t\t\t\t\t\t\t\t\t<div><div class=\"grid-container\"><div class=\"grid-item\"><img alt=\"Output\" src=\"data:image/png;base64,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\"></div><div class=\"grid-item\"><img alt=\"Output\" src=\"data:image/png;base64,iVBORw0KGgoAAAANSUhEUgAAAHYAAAAaCAIAAADt8z9nAAAAz3pUWHRSYXcgcHJvZmlsZSB0eXBlIGV4aWYAAHjabU/BDQMhDPszRUcICTgwDnelUjfo+DV3XCuqWiIxjhNI6K/nI9wGNEpI2QsqIESqqWojKXLizFHqEQ84Zi2ueoht6o1S/hbQp76t+jVIy88g0ZPYeIHc0myYg0xP/Xpwm35tpayDTBZ4+Xz97z2ZKzKiJ8ak4o5KXgIpE7JKdjywAzRG3FXSztzhzjb4cFgbjQPafXX3AKNwHyvYONEac2VU41aMSh4NjGbQjVU7PGOdN11+WsizA0OuAAAACXBIWXMAABJ0AAASdAHeZh94AAAAPHRFWHRTb2Z0d2FyZQBDcmVhdGVkIHdpdGggdGhlIFdvbGZyYW0gTGFuZ3VhZ2UgOiB3d3cud29sZnJhbS5jb21coqaFAAAAIXRFWHRDcmVhdGlvbiBUaW1lADIwMjE6MDk6MjMgMjI6MTY6MzbwRiXwAAADTklEQVRoge2YvU7rMBiGzdHZkcXeob6FwpYR+QaQWgkGJpBhp6h34F4A7cIckLoWUSGxJGJicCU2qFV1YEqouAKf4QMfk1DX+eNIR3kGlDr+eXn9+bOdDaUUqqmSX/9awP+AlHLDIAxD821tcQk0m031ie/7nudJKfXb2uKS2dnZSZTUFpfMaDSilDabTV3yO3dfUsq7u7v39/ezs7NvK0yn08lkghBqNBq7u7tbW1u5x6qIOI4vLy8RQo1Go9PpFOlKSkkIgefZbPblncqOEIIxZulhNptRSs1RMMa+7+cYq1La7TbIo5SW1WcQBAihIAh0SWaLtXf6IV0HJqDVanHOOefm9BaSXyrj8RhElmuxUooxxhjTPzNb3G63dUiusjiKInMalVLgMuf82z6FEDAZiXLf9znn4/E4q8i1RFGEMSaEgNEWi3Noo5QWslgIEUXRR2PnVMM5t1islIJoMivAisMY6+FKBFJEEAQwij2KM2nzfT+xXvPk4r+NnS3u9XoIoeFwuKqCEAJjjBASQiiloiiCwHcMYSGEe66HyO31eurTLLvFa7WBrQAhJNH8JyyGVbk2F4PQVqulPqcEXHAhCALLEkmLIYRAALpYXFDbT1gMu5+LBbB+4S/8P464W6xThG7ouN3l1la5xeCvmf4t6DWIMc50/HC0GFJEOqu6WJxb28fVYzqddrtd9B2Hh4e5j+UnJyeDwYAxdnFx4djk7e0NIbRcLl9fX807UhpTcxzHy+Xy/v7ervng4AAe+v0+PMznc4TQy8sLlKy6RmXV9gX32Uhj7yFT/AJw1obEl+ks4RjFRdzIrS3/BdpCHMenp6fX19eZ4rff708mE8ZYp9NZLBbdbnd/f//29rZEYXB2NJnP54PBgBBydHRUkbYNl7k1ubq6WiwW8AzrVOve29uD5bO9vf34+IgxPj8/TzTXdRKEYeh5Hsb4+fkZvmZAJ8Ph8Pj4eK2qMAwfHh7sy3xVQ8/zKKUWvwpqy3+BTqO3actwiVsfoE915ilYCAFN4DRqx/1EkW6IrNtdcW2FojiBjlC9mVjqmNzc3Dw9PW1ubiaCAsYq/hnMgpRyNBpZhiiuLbPFNVmpP8lXTm1x5dQWV05tceXUFlfOH0wGh1NqGk70AAAAAElFTkSuQmCC\"></div><div class=\"grid-item\"><img alt=\"Output\" src=\"data:image/png;base64,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\"></div></div></div>"
      ],
      "text/plain": [
       "         2\n",
       "x (-3 + x )\n",
       "           3\n",
       "-12 x + 4 x\n",
       "         2                3\n",
       "x (-3 + x ) == -12 x + 4 x"
      ]
     },
     "execution_count": 20,
     "metadata": {
      "text/html": [],
      "text/plain": []
     },
     "output_type": "execute_result"
    }
   ],
   "source": [
    "gcd\n",
    "wolframgcd\n",
    "gcd == wolframgcd"
   ]
  },
  {
   "cell_type": "code",
   "execution_count": null,
   "id": "a1132253",
   "metadata": {},
   "outputs": [],
   "source": []
  }
 ],
 "metadata": {
  "kernelspec": {
   "display_name": "Wolfram Language 12.3",
   "language": "Wolfram Language",
   "name": "wolframlanguage12.3"
  },
  "language_info": {
   "codemirror_mode": "mathematica",
   "file_extension": ".m",
   "mimetype": "application/vnd.wolfram.m",
   "name": "Wolfram Language",
   "pygments_lexer": "mathematica",
   "version": "12.0"
  }
 },
 "nbformat": 4,
 "nbformat_minor": 5
}

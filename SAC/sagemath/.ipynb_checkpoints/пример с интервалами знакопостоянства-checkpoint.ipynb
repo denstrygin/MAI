{
 "cells": [
  {
   "cell_type": "code",
   "execution_count": 16,
   "metadata": {},
   "outputs": [
    {
     "data": {
      "image/png": "[encoded data removed]",
      "text/plain": [
       "Graphics object consisting of 8 graphics primitives"
      ]
     },
     "metadata": {},
     "output_type": "display_data"
    }
   ],
   "source": [
    "# отрисовка отрезка - основная линия для графика промежутков знакопостоянства\n",
    "intervals_of_constancy = plot(0, xmin=-0.1, xmax=0.3, ymin=-0.5, ymax=0.5)\n",
    "\n",
    "# добавление красных маркеров - отметки точек\\маркеров\n",
    "intervals_of_constancy  += point((0, 0), color=\"red\", size=30, zorder=10)\n",
    "intervals_of_constancy  += point((0.2, 0), color=\"red\", size=30,  zorder=10)\n",
    "\n",
    "# здесь добавляем подписи точек (значения по оси X)\n",
    "intervals_of_constancy  += text(\"$0$\", (0, 0.1), color=\"black\", fontsize=14)\n",
    "intervals_of_constancy  += text(\"$0.2$\", (0.2, 0.1), color=\"black\", fontsize=14)\n",
    "\"\"\"\n",
    "Примечание:\n",
    "    используем в строках $какая-то формула LaTeX$ \n",
    "    -- чтобы нормально выводилась формула на графике полотне и т.д.\n",
    "    Пример:\n",
    "    \"$X_2$\" -- будет выведен X с нижним индексом 2\n",
    "    можно и интегралы и т.д. выводить\n",
    "    \n",
    "\"\"\"\n",
    "\n",
    "# Здесь добавляем подписи знаков промежутков знакопостоянства\n",
    "y_margin = 0.1  # смещение по оси Y элемента подписи, чтобы он не наслаивался на линию\n",
    "intervals_of_constancy  += text(\"+\", (0.25 , y_margin), color=\"black\", fontsize=14) \n",
    "intervals_of_constancy  += text(\"-\", (0.1 , y_margin), color=\"black\", fontsize=14)\n",
    "intervals_of_constancy  += text(\"+\", (-0.05 , y_margin), color=\"black\", fontsize=25)\n",
    "\n",
    "# оси не нужны - скрываем\n",
    "intervals_of_constancy.show(axes=False)"
   ]
  },
  {
   "cell_type": "code",
   "execution_count": null,
   "metadata": {},
   "outputs": [],
   "source": []
  }
 ],
 "metadata": {
  "kernelspec": {
   "display_name": "SageMath 9.2",
   "language": "sage",
   "name": "sagemath"
  },
  "language_info": {
   "codemirror_mode": {
    "name": "ipython",
    "version": 3
   },
   "file_extension": ".py",
   "mimetype": "text/x-python",
   "name": "python",
   "nbconvert_exporter": "python",
   "pygments_lexer": "ipython3",
   "version": "3.7.7"
  }
 },
 "nbformat": 4,
 "nbformat_minor": 2
}

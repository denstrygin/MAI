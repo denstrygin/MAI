{
 "cells": [
  {
   "cell_type": "code",
   "execution_count": 1,
   "metadata": {},
   "outputs": [],
   "source": [
    "f = 2 / (e**x * (x + 3))"
   ]
  },
  {
   "cell_type": "code",
   "execution_count": 2,
   "metadata": {},
   "outputs": [
    {
     "data": {
      "text/html": [
       "<html><script type=\"math/tex; mode=display\">\\newcommand{\\Bold}[1]{\\mathbf{#1}}\\frac{2 \\, e^{\\left(-x\\right)}}{x + 3}</script></html>"
      ],
      "text/plain": [
       "2*e^(-x)/(x + 3)"
      ]
     },
     "metadata": {},
     "output_type": "display_data"
    }
   ],
   "source": [
    "show(f)"
   ]
  },
  {
   "cell_type": "markdown",
   "metadata": {},
   "source": [
    "В знаменателе у нас линейная функция - не периодическая.<br>\n",
    "$e^x$ так же не является периодической."
   ]
  },
  {
   "cell_type": "markdown",
   "metadata": {},
   "source": [
    "По определению:<br>\n",
    "<b><i>Периодическая фу́нкция</i></b> ― функция, повторяющая свои значения через некоторый регулярный интервал аргумента, то есть не меняющая своего значения при добавлении к аргументу некоторого фиксированного ненулевого числа (пери́ода функции) на всей области определения. <br>\n",
    "Т.е.:<br>\n",
    "$f(x) = f(x + T) = f(x - T)$<br>\n",
    "$f(x) = f(x + nT) = f(x - nT)$"
   ]
  },
  {
   "cell_type": "code",
   "execution_count": 4,
   "metadata": {},
   "outputs": [
    {
     "data": {
      "text/plain": [
       "'\\nТ.е. первично смотрим на тип функции - есть ли предпосылки для того, \\nчтобы считать её периодической. Т.е. смотрим на типичные случаи: \\nтригонометрические функции, например.\\n\\nДалее смотрим строго по определению. И в курсовой это определение и его источник упоминаем.\\nЗдесь взято из википедии - в курсовой википедию за источник не считаем\\n- брать какой-нибудь учебник по матану.\\n'"
      ]
     },
     "execution_count": 4,
     "metadata": {},
     "output_type": "execute_result"
    }
   ],
   "source": [
    "\"\"\"\n",
    "Т.е. первично смотрим на тип функции - есть ли предпосылки для того, \n",
    "чтобы считать её периодической. Т.е. смотрим на типичные случаи: \n",
    "тригонометрические функции, например.\n",
    "\n",
    "Далее смотрим строго по определению. И в курсовой это определение и его источник упоминаем.\n",
    "Здесь взято из википедии - в курсовой википедию за источник не считаем\n",
    "- брать какой-нибудь учебник по матану.\n",
    "\"\"\""
   ]
  },
  {
   "cell_type": "markdown",
   "metadata": {},
   "source": [
    "Примечание:\n",
    "то, что в определении идет речь об области определения функции не говорит о том, что\n",
    "если у вас область определения не симметричная или не является $\\mathbb{R}$"
   ]
  },
  {
   "cell_type": "markdown",
   "metadata": {},
   "source": [
    "Отвечаем на вопрос: какова область определения нашей функции?\n",
    "<br> В нашем случае: $x \\neq -3$\n",
    "    "
   ]
  },
  {
   "cell_type": "code",
   "execution_count": 5,
   "metadata": {},
   "outputs": [],
   "source": [
    "var(\"x T\")\n",
    "eq1 = f(x) - f(x + T)"
   ]
  },
  {
   "cell_type": "code",
   "execution_count": 6,
   "metadata": {},
   "outputs": [
    {
     "data": {
      "text/plain": [
       "2*(x*(e^T - 1) + (T + 3)*e^T - 3)*e^(-x)/((T + 6)*x*e^T + x^2*e^T + 3*(T + 3)*e^T)"
      ]
     },
     "execution_count": 6,
     "metadata": {},
     "output_type": "execute_result"
    }
   ],
   "source": [
    "eq1.simplify_full()"
   ]
  },
  {
   "cell_type": "code",
   "execution_count": 7,
   "metadata": {},
   "outputs": [],
   "source": [
    "eq1 = _"
   ]
  },
  {
   "cell_type": "code",
   "execution_count": 8,
   "metadata": {},
   "outputs": [
    {
     "data": {
      "text/html": [
       "<html><script type=\"math/tex; mode=display\">\\newcommand{\\Bold}[1]{\\mathbf{#1}}\\frac{2 \\, {\\left(x {\\left(e^{T} - 1\\right)} + {\\left(T + 3\\right)} e^{T} - 3\\right)} e^{\\left(-x\\right)}}{{\\left(T + 6\\right)} x e^{T} + x^{2} e^{T} + 3 \\, {\\left(T + 3\\right)} e^{T}}</script></html>"
      ],
      "text/plain": [
       "2*(x*(e^T - 1) + (T + 3)*e^T - 3)*e^(-x)/((T + 6)*x*e^T + x^2*e^T + 3*(T + 3)*e^T)"
      ]
     },
     "metadata": {},
     "output_type": "display_data"
    }
   ],
   "source": [
    "show(eq1)"
   ]
  },
  {
   "cell_type": "code",
   "execution_count": 10,
   "metadata": {},
   "outputs": [
    {
     "data": {
      "text/plain": [
       "1/6*(4*e - 3)*e^(-1)"
      ]
     },
     "execution_count": 10,
     "metadata": {},
     "output_type": "execute_result"
    }
   ],
   "source": [
    "eq1(x=0, T=1)"
   ]
  },
  {
   "cell_type": "code",
   "execution_count": 11,
   "metadata": {},
   "outputs": [],
   "source": [
    "eq1 = f(x) - f(x + T)"
   ]
  },
  {
   "cell_type": "code",
   "execution_count": 12,
   "metadata": {},
   "outputs": [
    {
     "data": {
      "text/plain": [
       "[T == -((x + 3)*e^T - x - 3)*e^(-T)]"
      ]
     },
     "execution_count": 12,
     "metadata": {},
     "output_type": "execute_result"
    }
   ],
   "source": [
    "solve(eq1, T)"
   ]
  },
  {
   "cell_type": "markdown",
   "metadata": {},
   "source": [
    "<p><h3>1.Формулируем задачу проверки периодичности функции, как решение системы функций</h3><br>\n",
    "Изначально у нас одно уравнение $f(x) = f(x + T)$ (можем взять и другое, которое тоже удовлетворяет определению периодичности).<br>\n",
    "Второе уравнение берем исходя из того что $f(x) = f(x + T) = f(x + n\\cdot T), n = 1, 2, ... \\mathbb{N}$</p>\n",
    "<p><h3>2.Решаем</h3><br>\n",
    "    Тут или решается явно. Или решение не получается.<br>\n",
    "    Если получилось явное решение - у вас есть период и функция периодическая.<br>\n",
    "    Если решение не получилось, то нужно подумать: а не трансцендентное ли у нас уравнение?<br>\n",
    "    И потом поискать решение в численном виде при помощи, например, find_root.<br>\n",
    "    (найти другие методы для численного поиска корней можно по ключевым словам \"root finding\"<br>\n",
    "    Например: <a href =\"https://doc.sagemath.org/html/en/reference/numerical/sage/numerical/optimize.html?highlight=newton\">Документация SageMath: Numerical Root Finding and Optimization</a>)\n",
    "</p>"
   ]
  },
  {
   "cell_type": "code",
   "execution_count": 15,
   "metadata": {},
   "outputs": [],
   "source": [
    "find_root?"
   ]
  },
  {
   "cell_type": "code",
   "execution_count": 16,
   "metadata": {},
   "outputs": [],
   "source": [
    "solve?"
   ]
  },
  {
   "cell_type": "code",
   "execution_count": null,
   "metadata": {},
   "outputs": [],
   "source": []
  }
 ],
 "metadata": {
  "kernelspec": {
   "display_name": "SageMath 9.2",
   "language": "sage",
   "name": "sagemath"
  },
  "language_info": {
   "codemirror_mode": {
    "name": "ipython",
    "version": 3
   },
   "file_extension": ".py",
   "mimetype": "text/x-python",
   "name": "python",
   "nbconvert_exporter": "python",
   "pygments_lexer": "ipython3",
   "version": "3.7.7"
  }
 },
 "nbformat": 4,
 "nbformat_minor": 2
}

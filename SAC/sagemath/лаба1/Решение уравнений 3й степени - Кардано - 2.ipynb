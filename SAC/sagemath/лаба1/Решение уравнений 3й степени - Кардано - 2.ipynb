{
 "cells": [
  {
   "cell_type": "code",
   "execution_count": 1,
   "metadata": {},
   "outputs": [],
   "source": [
    "# Задание 4: Решение алгебр. уравнений 3й степени"
   ]
  },
  {
   "cell_type": "code",
   "execution_count": null,
   "metadata": {},
   "outputs": [],
   "source": []
  },
  {
   "cell_type": "markdown",
   "metadata": {},
   "source": [
    "Должны привести уравнение к виду:\n",
    "$$x^3 + a\\cdot x^2 + b\\cdot x + c = 0$$\n",
    "Сделать замену:\n",
    "$x = z - \\frac{a}{3}$\n",
    "Получим:\n",
    "$$z^3 + p\\cdot z + q = 0$$\n",
    "Вычисляем:\n",
    "$$u = \\left(-\\frac{q}{2} + \\left(\\frac{q^2}{4} + \\frac{p^3}{27}\\right)^{1/2}\\right)^{1/3}$$\n",
    "$$v = \\left(-\\frac{q}{2} - \\left(\\frac{q^2}{4} + \\frac{p^3}{27}\\right)^{1/2}\\right)^{1/3}$$\n",
    "\n",
    "Берем u1 (где u1 -  какое-то значение u)<br>\n",
    "v1 вычисляем из $3\\cdot u\\cdot v + p = 0$<br>\n",
    "Вычисляем $\\varepsilon = -1/2 + i\\cdot\\frac{\\sqrt{3}}{2}$\n",
    "<br><br>\n",
    "Корни z:<br>\n",
    "$z1 = u1 + v1$<br>\n",
    "$z2 = u1\\cdot \\varepsilon + v1\\cdot \\varepsilon^2$<br>\n",
    "$z3 = v1\\cdot \\varepsilon + u1\\cdot \\varepsilon^2$<br>\n",
    "<br><br>\n",
    "И далее возвращаемся к замене $x = z - \\frac{a}{3}$\n"
   ]
  },
  {
   "cell_type": "code",
   "execution_count": 1,
   "metadata": {},
   "outputs": [
    {
     "data": {
      "text/html": [
       "<html><script type=\"math/tex; mode=display\">\\newcommand{\\Bold}[1]{\\mathbf{#1}}x^{3} - 5 \\, x^{2} + 8 \\, x - 6</script></html>"
      ],
      "text/plain": [
       "x^3 - 5*x^2 + 8*x - 6"
      ]
     },
     "metadata": {},
     "output_type": "display_data"
    },
    {
     "data": {
      "image/png": "[encoded data removed]",
      "text/plain": [
       "Graphics object consisting of 1 graphics primitive"
      ]
     },
     "execution_count": 1,
     "metadata": {},
     "output_type": "execute_result"
    }
   ],
   "source": [
    "poly_x = x**3 - 5*x**2 + 8*x - 6\n",
    "show(poly_x)\n",
    "plot(poly_x, (x, 1, 4))"
   ]
  },
  {
   "cell_type": "code",
   "execution_count": 3,
   "metadata": {},
   "outputs": [],
   "source": [
    "# poly_x *= 4\n",
    "# show(poly_x)"
   ]
  },
  {
   "cell_type": "markdown",
   "metadata": {},
   "source": [
    "Сделаем замену x = z - a/3"
   ]
  },
  {
   "cell_type": "markdown",
   "metadata": {},
   "source": [
    "у нас a = -5<br>\n",
    "Отсюда: x = z - (a/3) = z + 5/3"
   ]
  },
  {
   "cell_type": "code",
   "execution_count": 2,
   "metadata": {},
   "outputs": [],
   "source": [
    "var(\"z\")\n",
    "poly_z = poly_x(x = z + 5/3)"
   ]
  },
  {
   "cell_type": "code",
   "execution_count": 3,
   "metadata": {},
   "outputs": [
    {
     "data": {
      "text/plain": [
       "1/27*(3*z + 5)^3 - 5/9*(3*z + 5)^2 + 8*z + 22/3"
      ]
     },
     "execution_count": 3,
     "metadata": {},
     "output_type": "execute_result"
    }
   ],
   "source": [
    "poly_z"
   ]
  },
  {
   "cell_type": "code",
   "execution_count": 4,
   "metadata": {},
   "outputs": [
    {
     "data": {
      "text/html": [
       "<html><script type=\"math/tex; mode=display\">\\newcommand{\\Bold}[1]{\\mathbf{#1}}z^{3} - \\frac{1}{3} \\, z - \\frac{52}{27}</script></html>"
      ],
      "text/plain": [
       "z^3 - 1/3*z - 52/27"
      ]
     },
     "metadata": {},
     "output_type": "display_data"
    }
   ],
   "source": [
    "show(poly_z.expand().simplify())"
   ]
  },
  {
   "cell_type": "markdown",
   "metadata": {},
   "source": [
    "$z^3 + p\\cdot z + q = 0$<br>\n",
    "Отсюда:<br>\n",
    "$p = -1/3$<br>\n",
    "$q = -52/27$"
   ]
  },
  {
   "cell_type": "code",
   "execution_count": 5,
   "metadata": {},
   "outputs": [],
   "source": [
    "pq = {'p': -1/3, 'q': -52/27}"
   ]
  },
  {
   "cell_type": "markdown",
   "metadata": {},
   "source": [
    "Вычисляем:\n",
    "$$u = \\left(-\\frac{q}{2} + \\left(\\frac{q^2}{4} + \\frac{p^3}{27}\\right)^{1/2}\\right)^{1/3}$$\n",
    "$$v = \\left(-\\frac{q}{2} - \\left(\\frac{q^2}{4} + \\frac{p^3}{27}\\right)^{1/2}\\right)^{1/3}$$"
   ]
  },
  {
   "cell_type": "code",
   "execution_count": 6,
   "metadata": {},
   "outputs": [],
   "source": [
    "def safe_cubic_root(_in_param):\n",
    "    if _in_param.imag():\n",
    "        # sgn для комплексного числа выдаст ошибку в дальнейшем, когда будет вызван numerical_approx\n",
    "        # поэтому придется просто возводить в степень\n",
    "        return (_in_param)**(1/3)\n",
    "    else:\n",
    "        return sgn(_in_param)*(abs(_in_param)**(1/3))"
   ]
  },
  {
   "cell_type": "code",
   "execution_count": 7,
   "metadata": {},
   "outputs": [],
   "source": [
    "var(\"p q da\")\n",
    "# da - выносим отдельно и объявляем _после_ формул \"u\" и \"v\"\n",
    "# потому как так отлаживать удобнее\n",
    "u_pre = -q/2 + sqrt(da)\n",
    "v_pre = -q/2 - sqrt(da)\n",
    "da = q**2/4 + p**3/27"
   ]
  },
  {
   "cell_type": "code",
   "execution_count": 8,
   "metadata": {},
   "outputs": [
    {
     "data": {
      "text/html": [
       "<html><script type=\"math/tex; mode=display\">\\newcommand{\\Bold}[1]{\\mathbf{#1}}\\frac{1}{27} \\, p^{3} + \\frac{1}{4} \\, q^{2}</script></html>"
      ],
      "text/plain": [
       "1/27*p^3 + 1/4*q^2"
      ]
     },
     "metadata": {},
     "output_type": "display_data"
    }
   ],
   "source": [
    "show(da)"
   ]
  },
  {
   "cell_type": "markdown",
   "metadata": {},
   "source": [
    "Берем u1 (где u1 -  какое-то значение u)<br>"
   ]
  },
  {
   "cell_type": "code",
   "execution_count": 9,
   "metadata": {},
   "outputs": [
    {
     "data": {
      "text/html": [
       "<html><script type=\"math/tex; mode=display\">\\newcommand{\\Bold}[1]{\\mathbf{#1}}\\verb|da|\\phantom{\\verb!x!}\\verb|=| \\frac{25}{27}</script></html>"
      ],
      "text/plain": [
       "'da = ' 25/27"
      ]
     },
     "metadata": {},
     "output_type": "display_data"
    },
    {
     "data": {
      "text/html": [
       "<html><script type=\"math/tex; mode=display\">\\newcommand{\\Bold}[1]{\\mathbf{#1}}\\verb|u1|\\phantom{\\verb!x!}\\verb|=| 1.244</script></html>"
      ],
      "text/plain": [
       "'u1 = ' 1.244"
      ]
     },
     "metadata": {},
     "output_type": "display_data"
    }
   ],
   "source": [
    "show(\"da = \", da(**pq))\n",
    "u1 = safe_cubic_root(u_pre(**pq, da=da(**pq)))\n",
    "show(\"u1 = \", u1.n(digits=4))"
   ]
  },
  {
   "cell_type": "code",
   "execution_count": 10,
   "metadata": {},
   "outputs": [
    {
     "data": {
      "text/html": [
       "<html><script type=\"math/tex; mode=display\">\\newcommand{\\Bold}[1]{\\mathbf{#1}}\\verb|u1_2|\\phantom{\\verb!x!}\\verb|=| 1.244</script></html>"
      ],
      "text/plain": [
       "'u1_2 = ' 1.244"
      ]
     },
     "metadata": {},
     "output_type": "display_data"
    }
   ],
   "source": [
    "u1_2 = safe_cubic_root(u_pre(**pq, da=da(**pq)))\n",
    "show(\"u1_2 = \", u1_2.n(digits=4))"
   ]
  },
  {
   "cell_type": "markdown",
   "metadata": {},
   "source": [
    "v1 вычисляем из $3\\cdot u\\cdot v + p = 0$<br>"
   ]
  },
  {
   "cell_type": "code",
   "execution_count": 11,
   "metadata": {},
   "outputs": [
    {
     "data": {
      "text/html": [
       "<html><script type=\"math/tex; mode=display\">\\newcommand{\\Bold}[1]{\\mathbf{#1}}{\\left| -\\frac{5}{3} \\, \\sqrt{\\frac{1}{3}} + \\frac{26}{27} \\right|}^{\\frac{1}{3}}</script></html>"
      ],
      "text/plain": [
       "abs(-5/3*sqrt(1/3) + 26/27)^(1/3)"
      ]
     },
     "metadata": {},
     "output_type": "display_data"
    },
    {
     "data": {
      "text/html": [
       "<html><script type=\"math/tex; mode=display\">\\newcommand{\\Bold}[1]{\\mathbf{#1}}0.08919</script></html>"
      ],
      "text/plain": [
       "0.08919"
      ]
     },
     "metadata": {},
     "output_type": "display_data"
    }
   ],
   "source": [
    "v1=safe_cubic_root(v_pre(**pq, da=da(**pq)))\n",
    "show(v1)\n",
    "show(v1.n(digits=4))"
   ]
  },
  {
   "cell_type": "code",
   "execution_count": 12,
   "metadata": {},
   "outputs": [
    {
     "data": {
      "text/html": [
       "<html><script type=\"math/tex; mode=display\">\\newcommand{\\Bold}[1]{\\mathbf{#1}}0.08919</script></html>"
      ],
      "text/plain": [
       "0.08919"
      ]
     },
     "metadata": {},
     "output_type": "display_data"
    }
   ],
   "source": [
    "v1_2 = v_pre(**pq, da=da(**pq))**(1/3)\n",
    "show(v1_2.n(digits=4))"
   ]
  },
  {
   "cell_type": "code",
   "execution_count": 13,
   "metadata": {},
   "outputs": [
    {
     "data": {
      "text/html": [
       "<html><script type=\"math/tex; mode=display\">\\newcommand{\\Bold}[1]{\\mathbf{#1}}\\frac{1}{3 \\, {\\left(45 \\, \\sqrt{\\frac{1}{3}} + 26\\right)}^{\\frac{1}{3}}}</script></html>"
      ],
      "text/plain": [
       "1/3/(45*sqrt(1/3) + 26)^(1/3)"
      ]
     },
     "metadata": {},
     "output_type": "display_data"
    },
    {
     "data": {
      "text/html": [
       "<html><script type=\"math/tex; mode=display\">\\newcommand{\\Bold}[1]{\\mathbf{#1}}0.08932</script></html>"
      ],
      "text/plain": [
       "0.08932"
      ]
     },
     "metadata": {},
     "output_type": "display_data"
    }
   ],
   "source": [
    "# ! здесь было просто \n",
    "# v1_func = -p/(3*u)\n",
    "# что приводило сразу к символьному расчету на месте, вместо создания функции и затем пересчета значения\n",
    "def v1_func(_p, _u):\n",
    "    return -_p/(3*_u)\n",
    "\n",
    "v1 = v1_func(_p=pq['p'], _u=u1_2)\n",
    "show(v1)\n",
    "show(v1.n(digits=4))"
   ]
  },
  {
   "cell_type": "markdown",
   "metadata": {},
   "source": [
    "Вычисляем $\\varepsilon = -1/2 + i\\cdot\\frac{\\sqrt{3}}{2}$"
   ]
  },
  {
   "cell_type": "code",
   "execution_count": 14,
   "metadata": {},
   "outputs": [
    {
     "data": {
      "text/html": [
       "<html><script type=\"math/tex; mode=display\">\\newcommand{\\Bold}[1]{\\mathbf{#1}}\\frac{1}{2} \\, \\sqrt{-3} - \\frac{1}{2}</script></html>"
      ],
      "text/plain": [
       "1/2*sqrt(-3) - 1/2"
      ]
     },
     "metadata": {},
     "output_type": "display_data"
    }
   ],
   "source": [
    "Eps = -1/2 + (sqrt(-3))/2\n",
    "show(Eps)"
   ]
  },
  {
   "cell_type": "markdown",
   "metadata": {},
   "source": [
    "Корни z:<br>\n",
    "$z1 = u1 + v1$<br>\n",
    "$z2 = u1\\cdot \\varepsilon + v1\\cdot \\varepsilon^2$<br>\n",
    "$z3 = v1\\cdot \\varepsilon + u1\\cdot \\varepsilon^2$<br>"
   ]
  },
  {
   "cell_type": "code",
   "execution_count": 15,
   "metadata": {},
   "outputs": [
    {
     "data": {
      "text/html": [
       "<html><script type=\"math/tex; mode=display\">\\newcommand{\\Bold}[1]{\\mathbf{#1}}\\verb|z0|\\phantom{\\verb!x!}\\verb|=| \\frac{1}{3} \\, {\\left(15 \\, \\sqrt{3} + 26\\right)}^{\\frac{1}{3}} + \\frac{1}{3 \\, {\\left(15 \\, \\sqrt{3} + 26\\right)}^{\\frac{1}{3}}}</script></html>"
      ],
      "text/plain": [
       "'z0 = ' 1/3*(15*sqrt(3) + 26)^(1/3) + 1/3/(15*sqrt(3) + 26)^(1/3)"
      ]
     },
     "metadata": {},
     "output_type": "display_data"
    },
    {
     "data": {
      "text/html": [
       "<html><script type=\"math/tex; mode=display\">\\newcommand{\\Bold}[1]{\\mathbf{#1}}\\verb|z1|\\phantom{\\verb!x!}\\verb|=| \\frac{{\\left(i \\, \\sqrt{3} - 1\\right)}^{2}}{12 \\, {\\left(15 \\, \\sqrt{3} + 26\\right)}^{\\frac{1}{3}}} + \\frac{1}{6} \\, {\\left(15 \\, \\sqrt{3} + 26\\right)}^{\\frac{1}{3}} {\\left(i \\, \\sqrt{3} - 1\\right)}</script></html>"
      ],
      "text/plain": [
       "'z1 = ' 1/12*(I*sqrt(3) - 1)^2/(15*sqrt(3) + 26)^(1/3) + 1/6*(15*sqrt(3) + 26)^(1/3)*(I*sqrt(3) - 1)"
      ]
     },
     "metadata": {},
     "output_type": "display_data"
    },
    {
     "data": {
      "text/html": [
       "<html><script type=\"math/tex; mode=display\">\\newcommand{\\Bold}[1]{\\mathbf{#1}}\\verb|z2|\\phantom{\\verb!x!}\\verb|=| \\frac{1}{12} \\, {\\left(15 \\, \\sqrt{3} + 26\\right)}^{\\frac{1}{3}} {\\left(i \\, \\sqrt{3} - 1\\right)}^{2} + \\frac{i \\, \\sqrt{3} - 1}{6 \\, {\\left(15 \\, \\sqrt{3} + 26\\right)}^{\\frac{1}{3}}}</script></html>"
      ],
      "text/plain": [
       "'z2 = ' 1/12*(15*sqrt(3) + 26)^(1/3)*(I*sqrt(3) - 1)^2 + 1/6*(I*sqrt(3) - 1)/(15*sqrt(3) + 26)^(1/3)"
      ]
     },
     "metadata": {},
     "output_type": "display_data"
    },
    {
     "data": {
      "text/html": [
       "<html><script type=\"math/tex; mode=display\">\\newcommand{\\Bold}[1]{\\mathbf{#1}}\\verb|z0|\\phantom{\\verb!x!}\\verb|=| 1.333</script></html>"
      ],
      "text/plain": [
       "'z0 = ' 1.333"
      ]
     },
     "metadata": {},
     "output_type": "display_data"
    },
    {
     "data": {
      "text/html": [
       "<html><script type=\"math/tex; mode=display\">\\newcommand{\\Bold}[1]{\\mathbf{#1}}\\verb|z1|\\phantom{\\verb!x!}\\verb|=| -0.6667 + 1.000i</script></html>"
      ],
      "text/plain": [
       "'z1 = ' -0.6667 + 1.000*I"
      ]
     },
     "metadata": {},
     "output_type": "display_data"
    },
    {
     "data": {
      "text/html": [
       "<html><script type=\"math/tex; mode=display\">\\newcommand{\\Bold}[1]{\\mathbf{#1}}\\verb|z2|\\phantom{\\verb!x!}\\verb|=| -0.6667 - 1.000i</script></html>"
      ],
      "text/plain": [
       "'z2 = ' -0.6667 - 1.000*I"
      ]
     },
     "metadata": {},
     "output_type": "display_data"
    }
   ],
   "source": [
    "z = [u1 + v1\n",
    "     , u1*Eps + v1*Eps**2\n",
    "     , v1*Eps + u1*Eps**2\n",
    "    ]\n",
    "\n",
    "for i, zi in enumerate(z):\n",
    "    show(f\"z{i} = \", zi.simplify())\n",
    "\n",
    "for i, zi in enumerate(z):\n",
    "    show(f\"z{i} = \", zi.n(digits=4))"
   ]
  },
  {
   "cell_type": "markdown",
   "metadata": {},
   "source": [
    "Теперь ищем D, чтобы сверить, какие корни получились, какие должны быть и пр.:<br>\n",
    "D < 0: 1 действительный, два комплексных корня<br>\n",
    "D == 0: три действительных корня, два из них равные<br>\n",
    "D > 0 - три действительных и различных"
   ]
  },
  {
   "cell_type": "code",
   "execution_count": 16,
   "metadata": {},
   "outputs": [],
   "source": [
    "D = -4*p**3 - 27*q**2"
   ]
  },
  {
   "cell_type": "code",
   "execution_count": 18,
   "metadata": {},
   "outputs": [
    {
     "data": {
      "text/plain": [
       "-100"
      ]
     },
     "execution_count": 18,
     "metadata": {},
     "output_type": "execute_result"
    }
   ],
   "source": [
    "D(**pq)"
   ]
  },
  {
   "cell_type": "markdown",
   "metadata": {},
   "source": [
    "Вернемся к подстановке: x = z - a/3"
   ]
  },
  {
   "cell_type": "code",
   "execution_count": 19,
   "metadata": {},
   "outputs": [
    {
     "data": {
      "text/html": [
       "<html><script type=\"math/tex; mode=display\">\\newcommand{\\Bold}[1]{\\mathbf{#1}}\\verb|x0|\\phantom{\\verb!x!}\\verb|=| 3.000</script></html>"
      ],
      "text/plain": [
       "'x0 = ' 3.000"
      ]
     },
     "metadata": {},
     "output_type": "display_data"
    },
    {
     "data": {
      "text/html": [
       "<html><script type=\"math/tex; mode=display\">\\newcommand{\\Bold}[1]{\\mathbf{#1}}\\verb|x1|\\phantom{\\verb!x!}\\verb|=| 1.000 + 1.000i</script></html>"
      ],
      "text/plain": [
       "'x1 = ' 1.000 + 1.000*I"
      ]
     },
     "metadata": {},
     "output_type": "display_data"
    },
    {
     "data": {
      "text/html": [
       "<html><script type=\"math/tex; mode=display\">\\newcommand{\\Bold}[1]{\\mathbf{#1}}\\verb|x2|\\phantom{\\verb!x!}\\verb|=| 1.000 - 1.000i</script></html>"
      ],
      "text/plain": [
       "'x2 = ' 1.000 - 1.000*I"
      ]
     },
     "metadata": {},
     "output_type": "display_data"
    }
   ],
   "source": [
    "a = -5\n",
    "\n",
    "\n",
    "def from_z_to_x(_z, _a):\n",
    "    return _z - _a/3\n",
    "\n",
    "\n",
    "def from_z_to_x(_z, _a):\n",
    "    return _z - _a/3\n",
    "\n",
    "\n",
    "for i, zi in enumerate(z):\n",
    "    xi = from_z_to_x(_z=zi, _a=a)\n",
    "    show(f\"x{i} = \", xi.n(digits=4))"
   ]
  },
  {
   "cell_type": "code",
   "execution_count": 20,
   "metadata": {},
   "outputs": [
    {
     "data": {
      "text/html": [
       "<html><script type=\"math/tex; mode=display\">\\newcommand{\\Bold}[1]{\\mathbf{#1}}\\verb|x0|\\phantom{\\verb!x!}\\verb|=| 1.000 - 1.000i</script></html>"
      ],
      "text/plain": [
       "'x0 = ' 1.000 - 1.000*I"
      ]
     },
     "metadata": {},
     "output_type": "display_data"
    },
    {
     "data": {
      "text/html": [
       "<html><script type=\"math/tex; mode=display\">\\newcommand{\\Bold}[1]{\\mathbf{#1}}\\verb|x1|\\phantom{\\verb!x!}\\verb|=| 1.000 + 1.000i</script></html>"
      ],
      "text/plain": [
       "'x1 = ' 1.000 + 1.000*I"
      ]
     },
     "metadata": {},
     "output_type": "display_data"
    },
    {
     "data": {
      "text/html": [
       "<html><script type=\"math/tex; mode=display\">\\newcommand{\\Bold}[1]{\\mathbf{#1}}\\verb|x2|\\phantom{\\verb!x!}\\verb|=| 3.000</script></html>"
      ],
      "text/plain": [
       "'x2 = ' 3.000"
      ]
     },
     "metadata": {},
     "output_type": "display_data"
    }
   ],
   "source": [
    "var(\"x\")\n",
    "sols = solve(poly_x(), x)\n",
    "for i, sol in enumerate(sols):\n",
    "    show(f\"x{i} = \", sol.rhs().n(digits=4))"
   ]
  },
  {
   "cell_type": "code",
   "execution_count": null,
   "metadata": {},
   "outputs": [],
   "source": []
  }
 ],
 "metadata": {
  "kernelspec": {
   "display_name": "SageMath 9.1",
   "language": "sage",
   "name": "sagemath"
  },
  "language_info": {
   "codemirror_mode": {
    "name": "ipython",
    "version": 3
   },
   "file_extension": ".py",
   "mimetype": "text/x-python",
   "name": "python",
   "nbconvert_exporter": "python",
   "pygments_lexer": "ipython3",
   "version": "3.7.3"
  }
 },
 "nbformat": 4,
 "nbformat_minor": 2
}

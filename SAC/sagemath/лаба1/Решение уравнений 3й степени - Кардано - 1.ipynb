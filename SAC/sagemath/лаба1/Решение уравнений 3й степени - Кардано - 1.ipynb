{
 "cells": [
  {
   "cell_type": "code",
   "execution_count": 1,
   "metadata": {},
   "outputs": [],
   "source": [
    "# Задание 4: Решение алгебр. уравнений 3й степени"
   ]
  },
  {
   "cell_type": "markdown",
   "metadata": {},
   "source": [
    "Должны привести уравнение к виду:\n",
    "$$x^3 + a\\cdot x^2 + b\\cdot x + c = 0$$\n",
    "Сделать замену:\n",
    "$x = z - \\frac{a}{3}$\n",
    "Получим:\n",
    "$$z^3 + p\\cdot z + q = 0$$\n",
    "Вычисляем:\n",
    "$$u = \\left(-\\frac{q}{2} + \\left(\\frac{q^2}{4} + \\frac{p^3}{27}\\right)^{1/2}\\right)^{1/3}$$\n",
    "$$v = \\left(-\\frac{q}{2} - \\left(\\frac{q^2}{4} + \\frac{p^3}{27}\\right)^{1/2}\\right)^{1/3}$$\n",
    "\n",
    "Берем u1 (где u1 -  какое-то значение u)<br>\n",
    "v1 вычисляем из $3\\cdot u\\cdot v + p = 0$<br>\n",
    "Вычисляем $\\varepsilon = -1/2 + i\\cdot\\frac{\\sqrt{3}}{2}$\n",
    "<br><br>\n",
    "Корни z:<br>\n",
    "$z1 = u1 + v1$<br>\n",
    "$z2 = u1\\cdot \\varepsilon + v1\\cdot \\varepsilon^2$<br>\n",
    "$z3 = v1\\cdot \\varepsilon + u1\\cdot \\varepsilon^2$<br>\n",
    "<br><br>\n",
    "И далее возвращаемся к замене $x = z - \\frac{a}{3}$\n"
   ]
  },
  {
   "cell_type": "code",
   "execution_count": 1,
   "metadata": {},
   "outputs": [
    {
     "data": {
      "text/html": [
       "<html><script type=\"math/tex; mode=display\">\\newcommand{\\Bold}[1]{\\mathbf{#1}}x^{3} - 6 \\, x + 9</script></html>"
      ],
      "text/plain": [
       "x^3 - 6*x + 9"
      ]
     },
     "metadata": {},
     "output_type": "display_data"
    },
    {
     "data": {
      "image/png": "[encoded data removed]",
      "text/plain": [
       "Graphics object consisting of 1 graphics primitive"
      ]
     },
     "execution_count": 1,
     "metadata": {},
     "output_type": "execute_result"
    }
   ],
   "source": [
    "poly_x = x**3 - 6*x + 9\n",
    "show(poly_x)\n",
    "plot(poly_x, (x, -5, 3))"
   ]
  },
  {
   "cell_type": "markdown",
   "metadata": {},
   "source": [
    "Сделаем замену x = z - a/3"
   ]
  },
  {
   "cell_type": "markdown",
   "metadata": {},
   "source": [
    "у нас $a = 0$ ! не (-6)<br>\n",
    "<h1 style=\"color: red\">Внимание!</h1>\n",
    "<ol>\n",
    "    <li>$a$ - это коэф. при $x^2$, не при $x$</li>\n",
    "    <li>При $x^3$ коэф. должен уже быть 1</li>\n",
    "</ol>\n",
    "<h1 style=\"color: red\">----------------- end</h1>\n",
    "Отсюда: $x = z - (a/3) = z$"
   ]
  },
  {
   "cell_type": "code",
   "execution_count": 2,
   "metadata": {},
   "outputs": [],
   "source": [
    "var(\"z\")\n",
    "poly_z = poly_x(x = z)"
   ]
  },
  {
   "cell_type": "code",
   "execution_count": 3,
   "metadata": {},
   "outputs": [
    {
     "data": {
      "text/plain": [
       "z^3 - 6*z + 9"
      ]
     },
     "execution_count": 3,
     "metadata": {},
     "output_type": "execute_result"
    }
   ],
   "source": [
    "poly_z"
   ]
  },
  {
   "cell_type": "code",
   "execution_count": 4,
   "metadata": {},
   "outputs": [
    {
     "data": {
      "text/html": [
       "<html><script type=\"math/tex; mode=display\">\\newcommand{\\Bold}[1]{\\mathbf{#1}}z^{3} - 6 \\, z + 9</script></html>"
      ],
      "text/plain": [
       "z^3 - 6*z + 9"
      ]
     },
     "metadata": {},
     "output_type": "display_data"
    }
   ],
   "source": [
    "show(poly_z.expand().simplify())"
   ]
  },
  {
   "cell_type": "markdown",
   "metadata": {},
   "source": [
    "$z^3 + p\\cdot z + q = 0$<br>\n",
    "Отсюда:<br>\n",
    "$p = -6$<br>\n",
    "$q = 9$"
   ]
  },
  {
   "cell_type": "code",
   "execution_count": 5,
   "metadata": {},
   "outputs": [
    {
     "data": {
      "text/html": [
       "<html><script type=\"math/tex; mode=display\">\\newcommand{\\Bold}[1]{\\mathbf{#1}}\\left\\{\\verb|p| : -6, \\verb|q| : 9\\right\\}</script></html>"
      ],
      "text/plain": [
       "{'p': -6, 'q': 9}"
      ]
     },
     "metadata": {},
     "output_type": "display_data"
    }
   ],
   "source": [
    "pq = {'p': -6, 'q': 9}\n",
    "show(pq)"
   ]
  },
  {
   "cell_type": "markdown",
   "metadata": {},
   "source": [
    "Вычисляем:\n",
    "$$u = \\left(-\\frac{q}{2} + \\left(\\frac{q^2}{4} + \\frac{p^3}{27}\\right)^{1/2}\\right)^{1/3}$$\n",
    "$$v = \\left(-\\frac{q}{2} - \\left(\\frac{q^2}{4} + \\frac{p^3}{27}\\right)^{1/2}\\right)^{1/3}$$"
   ]
  },
  {
   "cell_type": "code",
   "execution_count": 6,
   "metadata": {},
   "outputs": [],
   "source": [
    "def safe_cubic_root(_in_param):\n",
    "    if _in_param.imag():\n",
    "        # sgn для комплексного числа выдаст ошибку в дальнейшем, когда будет вызван numerical_approx\n",
    "        # поэтому придется просто возводить в степень\n",
    "        return (_in_param)**(1/3)\n",
    "    else:\n",
    "        return sgn(_in_param)*(abs(_in_param)**(1/3))"
   ]
  },
  {
   "cell_type": "code",
   "execution_count": 7,
   "metadata": {},
   "outputs": [],
   "source": [
    "var(\"p q da\")\n",
    "# da - выносим отдельно и объявляем _после_ формул \"u\" и \"v\"\n",
    "# потому как так отлаживать удобнее\n",
    "u_pre = -q/2 + sqrt(da)\n",
    "v_pre = -q/2 - sqrt(da)\n",
    "da = q**2/4 + p**3/27"
   ]
  },
  {
   "cell_type": "code",
   "execution_count": 8,
   "metadata": {},
   "outputs": [
    {
     "data": {
      "text/html": [
       "<html><script type=\"math/tex; mode=display\">\\newcommand{\\Bold}[1]{\\mathbf{#1}}\\frac{1}{27} \\, p^{3} + \\frac{1}{4} \\, q^{2}</script></html>"
      ],
      "text/plain": [
       "1/27*p^3 + 1/4*q^2"
      ]
     },
     "metadata": {},
     "output_type": "display_data"
    }
   ],
   "source": [
    "show(da)"
   ]
  },
  {
   "cell_type": "code",
   "execution_count": 9,
   "metadata": {},
   "outputs": [
    {
     "data": {
      "text/html": [
       "<html><script type=\"math/tex; mode=display\">\\newcommand{\\Bold}[1]{\\mathbf{#1}}\\frac{49}{4}</script></html>"
      ],
      "text/plain": [
       "49/4"
      ]
     },
     "metadata": {},
     "output_type": "display_data"
    }
   ],
   "source": [
    "show(da(p=-6, q=9))"
   ]
  },
  {
   "cell_type": "markdown",
   "metadata": {},
   "source": [
    "Берем u1 (где u1 -  какое-то значение u)<br>"
   ]
  },
  {
   "cell_type": "code",
   "execution_count": 9,
   "metadata": {},
   "outputs": [
    {
     "data": {
      "text/html": [
       "<html><script type=\"math/tex; mode=display\">\\newcommand{\\Bold}[1]{\\mathbf{#1}}\\verb|da|\\phantom{\\verb!x!}\\verb|=| \\frac{49}{4}</script></html>"
      ],
      "text/plain": [
       "'da = ' 49/4"
      ]
     },
     "metadata": {},
     "output_type": "display_data"
    },
    {
     "data": {
      "text/html": [
       "<html><script type=\"math/tex; mode=display\">\\newcommand{\\Bold}[1]{\\mathbf{#1}}\\verb|u1|\\phantom{\\verb!x!}\\verb|=| -1.000</script></html>"
      ],
      "text/plain": [
       "'u1 = ' -1.000"
      ]
     },
     "metadata": {},
     "output_type": "display_data"
    }
   ],
   "source": [
    "show(\"da = \", da(**pq))\n",
    "u1 = safe_cubic_root(u_pre(**pq, da=da(**pq)))\n",
    "show(\"u1 = \", u1.n(digits=4))"
   ]
  },
  {
   "cell_type": "markdown",
   "metadata": {},
   "source": [
    "<h1 style=\"color: red\">Внимание!</h1>"
   ]
  },
  {
   "cell_type": "code",
   "execution_count": 12,
   "metadata": {},
   "outputs": [
    {
     "data": {
      "text/html": [
       "<html><script type=\"math/tex; mode=display\">\\newcommand{\\Bold}[1]{\\mathbf{#1}}\\verb|u1|\\phantom{\\verb!x!}\\verb|=| -1.0</script></html>"
      ],
      "text/plain": [
       "'u1 = ' -1.0"
      ]
     },
     "metadata": {},
     "output_type": "display_data"
    },
    {
     "data": {
      "text/html": [
       "<html><script type=\"math/tex; mode=display\">\\newcommand{\\Bold}[1]{\\mathbf{#1}}\\verb|u1|\\phantom{\\verb!x!}\\verb|=| -1.0</script></html>"
      ],
      "text/plain": [
       "'u1 = ' -1.0"
      ]
     },
     "metadata": {},
     "output_type": "display_data"
    }
   ],
   "source": [
    "# неправильно:\n",
    "show(\"u1 = \", u1.n(4))\n",
    "show(\"u1 = \", u1.n(prec=4))"
   ]
  },
  {
   "cell_type": "code",
   "execution_count": 13,
   "metadata": {},
   "outputs": [
    {
     "data": {
      "text/html": [
       "<html><script type=\"math/tex; mode=display\">\\newcommand{\\Bold}[1]{\\mathbf{#1}}\\verb|u1|\\phantom{\\verb!x!}\\verb|=| -1.0</script></html>"
      ],
      "text/plain": [
       "'u1 = ' -1.0"
      ]
     },
     "metadata": {},
     "output_type": "display_data"
    }
   ],
   "source": [
    "# правильно:\n",
    "show(\"u1 = \", u1.n(digits=2))"
   ]
  },
  {
   "cell_type": "markdown",
   "metadata": {},
   "source": [
    "<h1 style=\"color: red\">----------------- end</h1>"
   ]
  },
  {
   "cell_type": "code",
   "execution_count": 10,
   "metadata": {},
   "outputs": [
    {
     "data": {
      "text/html": [
       "<html><script type=\"math/tex; mode=display\">\\newcommand{\\Bold}[1]{\\mathbf{#1}}\\verb|u1_2|\\phantom{\\verb!x!}\\verb|=| -1.000</script></html>"
      ],
      "text/plain": [
       "'u1_2 = ' -1.000"
      ]
     },
     "metadata": {},
     "output_type": "display_data"
    }
   ],
   "source": [
    "u1_2 = safe_cubic_root(u_pre(**pq, da=da(**pq)))\n",
    "\n",
    "show(\"u1_2 = \", u1_2.n(digits=4))"
   ]
  },
  {
   "cell_type": "markdown",
   "metadata": {},
   "source": [
    "<h1 style=\"color: red\">Внимание!</h1>"
   ]
  },
  {
   "cell_type": "code",
   "execution_count": 15,
   "metadata": {},
   "outputs": [
    {
     "data": {
      "text/html": [
       "<html><script type=\"math/tex; mode=display\">\\newcommand{\\Bold}[1]{\\mathbf{#1}}1.06057523872491 \\times 10^{-16} + 1.73205080756888i</script></html>"
      ],
      "text/plain": [
       "1.06057523872491e-16 + 1.73205080756888*I"
      ]
     },
     "metadata": {},
     "output_type": "display_data"
    }
   ],
   "source": [
    "# ! в выражениях со степенью унарный минус будет применен только после вычисления всего остального\n",
    "# -- выражение будет читаться справа налево\n",
    "i1 = -27**(1/3)\n",
    "i2 = sqrt(i1)\n",
    "show(i2.n())"
   ]
  },
  {
   "cell_type": "code",
   "execution_count": 16,
   "metadata": {},
   "outputs": [
    {
     "data": {
      "text/html": [
       "<html><script type=\"math/tex; mode=display\">\\newcommand{\\Bold}[1]{\\mathbf{#1}}1.06057523872491 \\times 10^{-16} + 1.73205080756888i</script></html>"
      ],
      "text/plain": [
       "1.06057523872491e-16 + 1.73205080756888*I"
      ]
     },
     "metadata": {},
     "output_type": "display_data"
    }
   ],
   "source": [
    "j1 = sqrt(-(27**(1/3)))\n",
    "show(j1.n())"
   ]
  },
  {
   "cell_type": "code",
   "execution_count": 17,
   "metadata": {},
   "outputs": [
    {
     "data": {
      "text/html": [
       "<html><script type=\"math/tex; mode=display\">\\newcommand{\\Bold}[1]{\\mathbf{#1}}1.50000000000000 + 0.866025403784438i</script></html>"
      ],
      "text/plain": [
       "1.50000000000000 + 0.866025403784438*I"
      ]
     },
     "metadata": {},
     "output_type": "display_data"
    }
   ],
   "source": [
    "show((-27)**(1/6).n())"
   ]
  },
  {
   "cell_type": "markdown",
   "metadata": {},
   "source": [
    "<h1 style=\"color: red\">----------------- end</h1>"
   ]
  },
  {
   "cell_type": "markdown",
   "metadata": {},
   "source": [
    "v1 вычисляем из $3\\cdot u\\cdot v + p = 0$<br>"
   ]
  },
  {
   "cell_type": "code",
   "execution_count": 13,
   "metadata": {},
   "outputs": [
    {
     "data": {
      "text/html": [
       "<html><script type=\"math/tex; mode=display\">\\newcommand{\\Bold}[1]{\\mathbf{#1}}-2</script></html>"
      ],
      "text/plain": [
       "-2"
      ]
     },
     "metadata": {},
     "output_type": "display_data"
    },
    {
     "data": {
      "text/html": [
       "<html><script type=\"math/tex; mode=display\">\\newcommand{\\Bold}[1]{\\mathbf{#1}}-2.000</script></html>"
      ],
      "text/plain": [
       "-2.000"
      ]
     },
     "metadata": {},
     "output_type": "display_data"
    }
   ],
   "source": [
    "v1=safe_cubic_root(v_pre(**pq, da=da(**pq)))\n",
    "show(v1)\n",
    "show(v1.n(digits=4))"
   ]
  },
  {
   "cell_type": "code",
   "execution_count": 15,
   "metadata": {},
   "outputs": [
    {
     "data": {
      "text/html": [
       "<html><script type=\"math/tex; mode=display\">\\newcommand{\\Bold}[1]{\\mathbf{#1}}1.000 + 1.732i</script></html>"
      ],
      "text/plain": [
       "1.000 + 1.732*I"
      ]
     },
     "metadata": {},
     "output_type": "display_data"
    }
   ],
   "source": [
    "v1_2 = v_pre(**pq, da=da(**pq))**(1/3)\n",
    "show(v1_2.n(digits=4))"
   ]
  },
  {
   "cell_type": "markdown",
   "metadata": {},
   "source": [
    "<h1 style=\"color: red\">Внимание!</h1>"
   ]
  },
  {
   "cell_type": "markdown",
   "metadata": {},
   "source": [
    "v1_func - здесь было просто:<br>\n",
    "v1_func = -p/(3*u)<br>\n",
    "что приводило сразу к символьному расчету на месте, вместо создания функции и затем пересчета значения<br>\n",
    "потому делаем через новую функцию<br>\n",
    "Это не единственный способ."
   ]
  },
  {
   "cell_type": "markdown",
   "metadata": {},
   "source": [
    "<h1 style=\"color: red\">----------------- end</h1>"
   ]
  },
  {
   "cell_type": "code",
   "execution_count": 16,
   "metadata": {},
   "outputs": [
    {
     "data": {
      "text/html": [
       "<html><script type=\"math/tex; mode=display\">\\newcommand{\\Bold}[1]{\\mathbf{#1}}-2</script></html>"
      ],
      "text/plain": [
       "-2"
      ]
     },
     "metadata": {},
     "output_type": "display_data"
    },
    {
     "data": {
      "text/html": [
       "<html><script type=\"math/tex; mode=display\">\\newcommand{\\Bold}[1]{\\mathbf{#1}}-2.000</script></html>"
      ],
      "text/plain": [
       "-2.000"
      ]
     },
     "metadata": {},
     "output_type": "display_data"
    }
   ],
   "source": [
    "def v1_func(_p, _u):\n",
    "    return -_p/(3*_u)\n",
    "\n",
    "\n",
    "v1 = v1_func(_p=pq['p'], _u=u1_2)\n",
    "show(v1)\n",
    "show(v1.n(digits=4))"
   ]
  },
  {
   "cell_type": "markdown",
   "metadata": {},
   "source": [
    "Вычисляем $\\varepsilon = -1/2 + i\\cdot\\frac{\\sqrt{3}}{2}$"
   ]
  },
  {
   "cell_type": "code",
   "execution_count": 17,
   "metadata": {},
   "outputs": [
    {
     "data": {
      "text/html": [
       "<html><script type=\"math/tex; mode=display\">\\newcommand{\\Bold}[1]{\\mathbf{#1}}\\frac{1}{2} \\, \\sqrt{-3} - \\frac{1}{2}</script></html>"
      ],
      "text/plain": [
       "1/2*sqrt(-3) - 1/2"
      ]
     },
     "metadata": {},
     "output_type": "display_data"
    }
   ],
   "source": [
    "Eps = -1/2 + (sqrt(-3))/2\n",
    "show(Eps)"
   ]
  },
  {
   "cell_type": "markdown",
   "metadata": {},
   "source": [
    "Корни z:<br>\n",
    "$z1 = u1 + v1$<br>\n",
    "$z2 = u1\\cdot \\varepsilon + v1\\cdot \\varepsilon^2$<br>\n",
    "$z3 = v1\\cdot \\varepsilon + u1\\cdot \\varepsilon^2$<br>"
   ]
  },
  {
   "cell_type": "code",
   "execution_count": 19,
   "metadata": {},
   "outputs": [
    {
     "data": {
      "text/html": [
       "<html><script type=\"math/tex; mode=display\">\\newcommand{\\Bold}[1]{\\mathbf{#1}}\\verb|z0|\\phantom{\\verb!x!}\\verb|=| -3</script></html>"
      ],
      "text/plain": [
       "'z0 = ' -3"
      ]
     },
     "metadata": {},
     "output_type": "display_data"
    },
    {
     "data": {
      "text/html": [
       "<html><script type=\"math/tex; mode=display\">\\newcommand{\\Bold}[1]{\\mathbf{#1}}\\verb|z1|\\phantom{\\verb!x!}\\verb|=| -\\frac{1}{2} \\, {\\left(i \\, \\sqrt{3} - 1\\right)}^{2} - \\frac{1}{2} i \\, \\sqrt{3} + \\frac{1}{2}</script></html>"
      ],
      "text/plain": [
       "'z1 = ' -1/2*(I*sqrt(3) - 1)^2 - 1/2*I*sqrt(3) + 1/2"
      ]
     },
     "metadata": {},
     "output_type": "display_data"
    },
    {
     "data": {
      "text/html": [
       "<html><script type=\"math/tex; mode=display\">\\newcommand{\\Bold}[1]{\\mathbf{#1}}\\verb|z2|\\phantom{\\verb!x!}\\verb|=| -\\frac{1}{4} \\, {\\left(i \\, \\sqrt{3} - 1\\right)}^{2} - i \\, \\sqrt{3} + 1</script></html>"
      ],
      "text/plain": [
       "'z2 = ' -1/4*(I*sqrt(3) - 1)^2 - I*sqrt(3) + 1"
      ]
     },
     "metadata": {},
     "output_type": "display_data"
    },
    {
     "data": {
      "text/html": [
       "<html><script type=\"math/tex; mode=display\">\\newcommand{\\Bold}[1]{\\mathbf{#1}}\\verb|z0|\\phantom{\\verb!x!}\\verb|=| -3.000</script></html>"
      ],
      "text/plain": [
       "'z0 = ' -3.000"
      ]
     },
     "metadata": {},
     "output_type": "display_data"
    },
    {
     "data": {
      "text/html": [
       "<html><script type=\"math/tex; mode=display\">\\newcommand{\\Bold}[1]{\\mathbf{#1}}\\verb|z1|\\phantom{\\verb!x!}\\verb|=| 1.500 + 0.8661i</script></html>"
      ],
      "text/plain": [
       "'z1 = ' 1.500 + 0.8661*I"
      ]
     },
     "metadata": {},
     "output_type": "display_data"
    },
    {
     "data": {
      "text/html": [
       "<html><script type=\"math/tex; mode=display\">\\newcommand{\\Bold}[1]{\\mathbf{#1}}\\verb|z2|\\phantom{\\verb!x!}\\verb|=| 1.500 - 0.8660i</script></html>"
      ],
      "text/plain": [
       "'z2 = ' 1.500 - 0.8660*I"
      ]
     },
     "metadata": {},
     "output_type": "display_data"
    }
   ],
   "source": [
    "z = [u1 + v1\n",
    "     , u1*Eps + v1*Eps**2\n",
    "     , v1*Eps + u1*Eps**2\n",
    "    ]\n",
    "\n",
    "for i, zi in enumerate(z):\n",
    "    show(f\"z{i} = \", zi.simplify())\n",
    "\n",
    "for i, zi in enumerate(z):\n",
    "    show(f\"z{i} = \", zi.n(digits=4))"
   ]
  },
  {
   "cell_type": "markdown",
   "metadata": {},
   "source": [
    "Теперь ищем D, чтобы сверить, какие корни получились, какие должны быть и пр.:<br>\n",
    "D < 0: 1 действительный, два комплексных корня<br>\n",
    "D == 0: три действительных корня, два из них равные<br>\n",
    "D > 0 - три действительных и различных"
   ]
  },
  {
   "cell_type": "code",
   "execution_count": 20,
   "metadata": {},
   "outputs": [],
   "source": [
    "D = -4*p**3 - 27*q**2"
   ]
  },
  {
   "cell_type": "code",
   "execution_count": 22,
   "metadata": {},
   "outputs": [
    {
     "data": {
      "text/plain": [
       "-1323"
      ]
     },
     "execution_count": 22,
     "metadata": {},
     "output_type": "execute_result"
    }
   ],
   "source": [
    "D(**pq)"
   ]
  },
  {
   "cell_type": "markdown",
   "metadata": {},
   "source": [
    "Вернемся к подстановке: x = z - a/3"
   ]
  },
  {
   "cell_type": "code",
   "execution_count": 25,
   "metadata": {},
   "outputs": [
    {
     "data": {
      "text/html": [
       "<html><script type=\"math/tex; mode=display\">\\newcommand{\\Bold}[1]{\\mathbf{#1}}\\verb|x0|\\phantom{\\verb!x!}\\verb|=| -3.000</script></html>"
      ],
      "text/plain": [
       "'x0 = ' -3.000"
      ]
     },
     "metadata": {},
     "output_type": "display_data"
    },
    {
     "data": {
      "text/html": [
       "<html><script type=\"math/tex; mode=display\">\\newcommand{\\Bold}[1]{\\mathbf{#1}}\\verb|x1|\\phantom{\\verb!x!}\\verb|=| 1.500 + 0.8661i</script></html>"
      ],
      "text/plain": [
       "'x1 = ' 1.500 + 0.8661*I"
      ]
     },
     "metadata": {},
     "output_type": "display_data"
    },
    {
     "data": {
      "text/html": [
       "<html><script type=\"math/tex; mode=display\">\\newcommand{\\Bold}[1]{\\mathbf{#1}}\\verb|x2|\\phantom{\\verb!x!}\\verb|=| 1.500 - 0.8660i</script></html>"
      ],
      "text/plain": [
       "'x2 = ' 1.500 - 0.8660*I"
      ]
     },
     "metadata": {},
     "output_type": "display_data"
    }
   ],
   "source": [
    "a = 0\n",
    "\n",
    "\n",
    "def from_z_to_x(_z, _a):\n",
    "    return _z - _a/3\n",
    "\n",
    "\n",
    "for i, zi in enumerate(z):\n",
    "    xi = from_z_to_x(_z=zi, _a=a)\n",
    "    show(f\"x{i} = \", xi.n(digits=4))"
   ]
  },
  {
   "cell_type": "code",
   "execution_count": 27,
   "metadata": {},
   "outputs": [
    {
     "data": {
      "text/html": [
       "<html><script type=\"math/tex; mode=display\">\\newcommand{\\Bold}[1]{\\mathbf{#1}}\\verb|x0|\\phantom{\\verb!x!}\\verb|=| 1.500 - 0.8660i</script></html>"
      ],
      "text/plain": [
       "'x0 = ' 1.500 - 0.8660*I"
      ]
     },
     "metadata": {},
     "output_type": "display_data"
    },
    {
     "data": {
      "text/html": [
       "<html><script type=\"math/tex; mode=display\">\\newcommand{\\Bold}[1]{\\mathbf{#1}}\\verb|x1|\\phantom{\\verb!x!}\\verb|=| 1.500 + 0.8660i</script></html>"
      ],
      "text/plain": [
       "'x1 = ' 1.500 + 0.8660*I"
      ]
     },
     "metadata": {},
     "output_type": "display_data"
    },
    {
     "data": {
      "text/html": [
       "<html><script type=\"math/tex; mode=display\">\\newcommand{\\Bold}[1]{\\mathbf{#1}}\\verb|x2|\\phantom{\\verb!x!}\\verb|=| -3.000</script></html>"
      ],
      "text/plain": [
       "'x2 = ' -3.000"
      ]
     },
     "metadata": {},
     "output_type": "display_data"
    }
   ],
   "source": [
    "var(\"x\")\n",
    "sols = solve(poly_x(), x)\n",
    "for i, sol in enumerate(sols):\n",
    "    show(f\"x{i} = \", sol.rhs().n(digits=4))"
   ]
  },
  {
   "cell_type": "code",
   "execution_count": null,
   "metadata": {},
   "outputs": [],
   "source": []
  },
  {
   "cell_type": "code",
   "execution_count": null,
   "metadata": {},
   "outputs": [],
   "source": []
  },
  {
   "cell_type": "code",
   "execution_count": null,
   "metadata": {},
   "outputs": [],
   "source": []
  }
 ],
 "metadata": {
  "kernelspec": {
   "display_name": "SageMath 9.1",
   "language": "sage",
   "name": "sagemath"
  },
  "language_info": {
   "codemirror_mode": {
    "name": "ipython",
    "version": 3
   },
   "file_extension": ".py",
   "mimetype": "text/x-python",
   "name": "python",
   "nbconvert_exporter": "python",
   "pygments_lexer": "ipython3",
   "version": "3.7.3"
  }
 },
 "nbformat": 4,
 "nbformat_minor": 2
}

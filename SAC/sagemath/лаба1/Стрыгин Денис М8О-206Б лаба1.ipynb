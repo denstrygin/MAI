{
 "cells": [
  {
   "cell_type": "markdown",
   "metadata": {},
   "source": [
    "<h1>Задание 1 - часть 1 - Квадратик</h1>"
   ]
  },
  {
   "cell_type": "code",
   "execution_count": 6,
   "metadata": {},
   "outputs": [],
   "source": [
    "import math"
   ]
  },
  {
   "cell_type": "code",
   "execution_count": 7,
   "metadata": {},
   "outputs": [
    {
     "data": {
      "image/png": "[encoded data removed]",
      "text/plain": [
       "Graphics object consisting of 2 graphics primitives"
      ]
     },
     "metadata": {},
     "output_type": "display_data"
    }
   ],
   "source": [
    "a = 11\n",
    "b = 20\n",
    "c = 30\n",
    "rectangle_src = matrix([[1, 1], [1, a], [a, a], [a, 1], [1, 1]])\n",
    "alpha = math.radians(210)\n",
    "mat_rot = matrix([\n",
    "    [cos(alpha), sin(alpha)]\n",
    "    , [ -sin(alpha), cos(alpha)]\n",
    "])\n",
    "mat_trans = matrix([[b, c], [b, c], [b, c], [b, c], [b, c]])\n",
    "rectangle_rotated =  rectangle_src * mat_rot\n",
    "rectangle_trans_rotated = rectangle_rotated + mat_trans\n",
    "show(\n",
    "    line(rectangle_src) + line(rectangle_trans_rotated)\n",
    "    , xmin = 0, xmax = 40, ymin = 0, ymax = 40, aspect_ratio = 1\n",
    ")"
   ]
  },
  {
   "cell_type": "markdown",
   "metadata": {},
   "source": [
    "<h1>Задание 1 - часть 2 - Исследование функции</h1>"
   ]
  },
  {
   "cell_type": "code",
   "execution_count": 1,
   "metadata": {},
   "outputs": [],
   "source": [
    "y = 1/2 * ln(sqrt(x**2 + 1) / sqrt(x**2 - 1))\n",
    "y1 = sqrt(x**2 + 1) / sqrt(x**2 - 1) "
   ]
  },
  {
   "cell_type": "code",
   "execution_count": 2,
   "metadata": {},
   "outputs": [
    {
     "data": {
      "image/png": "[encoded data removed]",
      "text/plain": [
       "Graphics object consisting of 2 graphics primitives"
      ]
     },
     "metadata": {},
     "output_type": "display_data"
    }
   ],
   "source": [
    "eps = 1e-10\n",
    "graph = plot(y, (x, -5, -1-eps)) + plot(y, (x, 1+eps, 5))\n",
    "graph.show(xmin = -5, xmax = 5, ymin = 0, ymax = 5, aspect_ratio = 1)"
   ]
  },
  {
   "cell_type": "markdown",
   "metadata": {},
   "source": [
    "x<sup>2</sup> - 1 > 0\n",
    "<br>D(y): (-&infin;; -1)&cup;(1;&infin;)</br>"
   ]
  },
  {
   "cell_type": "code",
   "execution_count": 4,
   "metadata": {},
   "outputs": [
    {
     "name": "stdout",
     "output_type": "stream",
     "text": [
      "y(x) - чётная функция\n"
     ]
    }
   ],
   "source": [
    "if (y(x) - y(-x)) == 0:\n",
    "    print(\"y(x) - чётная функция\")\n",
    "if y(x) == -y(-x):\n",
    "    print(\"y(x) - нечётная функция\")"
   ]
  },
  {
   "cell_type": "code",
   "execution_count": 5,
   "metadata": {},
   "outputs": [
    {
     "data": {
      "text/plain": [
       "[sqrt(T^2 + 2*T*x + x^2 + 1) == sqrt(T^2 + 2*T*x + x^2 - 1)*sqrt(x^2 + 1)/sqrt(x^2 - 1)]"
      ]
     },
     "execution_count": 5,
     "metadata": {},
     "output_type": "execute_result"
    }
   ],
   "source": [
    "var (\"x T\")\n",
    "w = y(x) - y(x+T)\n",
    "solve(w, T)"
   ]
  },
  {
   "cell_type": "markdown",
   "metadata": {},
   "source": [
    "y(x+T) &ne; y(x) &rArr; функция не передическая"
   ]
  },
  {
   "cell_type": "code",
   "execution_count": 6,
   "metadata": {},
   "outputs": [
    {
     "data": {
      "text/plain": [
       "[sqrt(x^2 + 1) == sqrt(x^2 - 1)]"
      ]
     },
     "execution_count": 6,
     "metadata": {},
     "output_type": "execute_result"
    }
   ],
   "source": [
    "solve(y, x)"
   ]
  },
  {
   "cell_type": "code",
   "execution_count": 7,
   "metadata": {},
   "outputs": [
    {
     "data": {
      "text/plain": [
       "[x == -I, x == I]"
      ]
     },
     "execution_count": 7,
     "metadata": {},
     "output_type": "execute_result"
    }
   ],
   "source": [
    "var(\"z\")\n",
    "z = sqrt(x**2 + 1) / sqrt(x**2 - 1)\n",
    "solve(z, x)"
   ]
  },
  {
   "cell_type": "code",
   "execution_count": 8,
   "metadata": {},
   "outputs": [
    {
     "name": "stdout",
     "output_type": "stream",
     "text": [
      "-1/4*I*pi\n"
     ]
    }
   ],
   "source": [
    "print(y(0))"
   ]
  },
  {
   "cell_type": "markdown",
   "metadata": {},
   "source": [
    "y(0), y<sup>-1</sup>(0) - нет решений на поле R &rArr; точек пересечения графика с осями координат нет"
   ]
  },
  {
   "cell_type": "code",
   "execution_count": 9,
   "metadata": {
    "scrolled": true
   },
   "outputs": [
    {
     "data": {
      "image/png": "[encoded data removed]",
      "text/plain": [
       "Graphics object consisting of 4 graphics primitives"
      ]
     },
     "metadata": {},
     "output_type": "display_data"
    }
   ],
   "source": [
    "intervals_of_constancy = plot(0, xmin=-1, xmax=1, ymin=0, ymax=0.2, aspect_ratio=1)\n",
    "y_margin = 0.1\n",
    "intervals_of_constancy  += text(r\"$-\\infty$\", (-0.9, y_margin), color=\"black\", fontsize=14)\n",
    "intervals_of_constancy  += text(r\"$+\\infty$\", (0.9, y_margin), color=\"black\", fontsize=14)\n",
    "if (y(2)>0):\n",
    "    intervals_of_constancy  += text(\"+\", (0, y_margin), color=\"black\", fontsize=20)\n",
    "else:\n",
    "    intervals_of_constancy  += text(\"-\", (0, y_margin), color=\"black\", fontsize=20)\n",
    "intervals_of_constancy.show(axes = False)"
   ]
  },
  {
   "cell_type": "code",
   "execution_count": 10,
   "metadata": {},
   "outputs": [
    {
     "data": {
      "text/html": [
       "<html><script type=\"math/tex; mode=display\">\\newcommand{\\Bold}[1]{\\mathbf{#1}}-\\frac{\\sqrt{x^{2} - 1} {\\left(\\frac{\\sqrt{x^{2} + 1} x}{{\\left(x^{2} - 1\\right)}^{\\frac{3}{2}}} - \\frac{x}{\\sqrt{x^{2} + 1} \\sqrt{x^{2} - 1}}\\right)}}{2 \\, \\sqrt{x^{2} + 1}}</script></html>"
      ],
      "text/latex": [
       "\\begin{math}\n",
       "\\newcommand{\\Bold}[1]{\\mathbf{#1}}-\\frac{\\sqrt{x^{2} - 1} {\\left(\\frac{\\sqrt{x^{2} + 1} x}{{\\left(x^{2} - 1\\right)}^{\\frac{3}{2}}} - \\frac{x}{\\sqrt{x^{2} + 1} \\sqrt{x^{2} - 1}}\\right)}}{2 \\, \\sqrt{x^{2} + 1}}\n",
       "\\end{math}"
      ],
      "text/plain": [
       "-1/2*sqrt(x^2 - 1)*(sqrt(x^2 + 1)*x/(x^2 - 1)^(3/2) - x/(sqrt(x^2 + 1)*sqrt(x^2 - 1)))/sqrt(x^2 + 1)"
      ]
     },
     "metadata": {},
     "output_type": "display_data"
    },
    {
     "data": {
      "text/plain": [
       "[x == 0]"
      ]
     },
     "execution_count": 10,
     "metadata": {},
     "output_type": "execute_result"
    }
   ],
   "source": [
    "diffur = diff(y, x)\n",
    "diffur.show()\n",
    "solve(diffur, x)"
   ]
  },
  {
   "cell_type": "code",
   "execution_count": 11,
   "metadata": {},
   "outputs": [
    {
     "data": {
      "image/png": "[encoded data removed]",
      "text/plain": [
       "Graphics object consisting of 9 graphics primitives"
      ]
     },
     "metadata": {},
     "output_type": "display_data"
    }
   ],
   "source": [
    "intervals_of_constancy1 = plot(0, xmin=-1, xmax=1, ymin=-0.2, ymax=0.2, aspect_ratio=1)\n",
    "y_margin = 0.1\n",
    "intervals_of_constancy1  += point((0, 0), color=\"red\", size=30, zorder=10)\n",
    "intervals_of_constancy1  += text(\"$0$\", (0, y_margin), color=\"black\", fontsize=14)\n",
    "intervals_of_constancy1  += text(r\"$-\\infty$\", (-0.9, y_margin), color=\"black\", fontsize=14)\n",
    "intervals_of_constancy1  += text(r\"$+\\infty$\", (0.9, y_margin), color=\"black\", fontsize=14)\n",
    "if (diffur(-2)>0):\n",
    "    intervals_of_constancy1  += text(\"+\", (-0.5, y_margin), color=\"black\", fontsize=20)\n",
    "    intervals_of_constancy1  += arrow((-0.85,-0.185), (-0.05,-0.05), color=\"yellow\")\n",
    "else:\n",
    "    intervals_of_constancy1  += text(\"-\", (-0.5, y_margin), color=\"black\", fontsize=20)\n",
    "    intervals_of_constancy1  += arrow((-0.85,-0.05), (0.05,-0.185), color=\"yellow\")\n",
    "if (diffur(2)>0):\n",
    "    intervals_of_constancy1  += text(\"+\", (0.5, y_margin), color=\"black\", fontsize=20)\n",
    "    intervals_of_constancy1  += arrow((0.05,-0.185), (0.85,0.185), color=\"yellow\")\n",
    "else:\n",
    "    intervals_of_constancy1  += text(\"-\", (0.5, y_margin), color=\"black\", fontsize=20)\n",
    "    intervals_of_constancy1  += arrow((0.05,-0.05), (0.85,-0.185), color=\"yellow\")\n",
    "intervals_of_constancy1.show(axes = False)"
   ]
  },
  {
   "cell_type": "code",
   "execution_count": 13,
   "metadata": {},
   "outputs": [
    {
     "name": "stdout",
     "output_type": "stream",
     "text": [
      "-1/4*I*pi\n"
     ]
    }
   ],
   "source": [
    "print(y(0))"
   ]
  },
  {
   "cell_type": "markdown",
   "metadata": {},
   "source": [
    "График функции терпит разрыв на промежутке (-1, 1), классификация разрыва - неустронимый"
   ]
  },
  {
   "cell_type": "code",
   "execution_count": 12,
   "metadata": {},
   "outputs": [
    {
     "data": {
      "text/plain": [
       "+Infinity"
      ]
     },
     "execution_count": 12,
     "metadata": {},
     "output_type": "execute_result"
    }
   ],
   "source": [
    "y.limit(x=-1,dir='-')"
   ]
  },
  {
   "cell_type": "code",
   "execution_count": 13,
   "metadata": {},
   "outputs": [
    {
     "data": {
      "text/plain": [
       "+Infinity"
      ]
     },
     "execution_count": 13,
     "metadata": {},
     "output_type": "execute_result"
    }
   ],
   "source": [
    "y.limit(x=1,dir='+')"
   ]
  },
  {
   "cell_type": "code",
   "execution_count": 14,
   "metadata": {},
   "outputs": [
    {
     "data": {
      "text/plain": [
       "0"
      ]
     },
     "execution_count": 14,
     "metadata": {},
     "output_type": "execute_result"
    }
   ],
   "source": [
    "y.limit(x=oo, dir='-')"
   ]
  },
  {
   "cell_type": "code",
   "execution_count": 15,
   "metadata": {},
   "outputs": [
    {
     "data": {
      "text/plain": [
       "0"
      ]
     },
     "execution_count": 15,
     "metadata": {},
     "output_type": "execute_result"
    }
   ],
   "source": [
    "y.limit(x=oo,dir='+')"
   ]
  },
  {
   "cell_type": "code",
   "execution_count": 15,
   "metadata": {},
   "outputs": [
    {
     "data": {
      "image/png": "[encoded data removed]",
      "text/plain": [
       "Graphics object consisting of 5 graphics primitives"
      ]
     },
     "metadata": {},
     "output_type": "display_data"
    }
   ],
   "source": [
    "var (\"a b\")\n",
    "a = 0\n",
    "b = 5\n",
    "eps = 1e-10\n",
    "graph = plot(y, (x, -5, -1-eps)) + plot(y, (x, 1+eps, 5)) + plot(0, (x, -5, 5), color=\"red\", linestyle=\"--\") + line([(-1,a), (-1,b)], color=\"red\", linestyle=\"--\") + line([(1,a), (1, b)], color=\"red\", linestyle=\"--\")\n",
    "graph.show(xmin = -5, xmax = 5, ymin = 0, ymax = 5, aspect_ratio = 1)"
   ]
  }
 ],
 "metadata": {
  "kernelspec": {
   "display_name": "SageMath 9.2",
   "language": "sage",
   "name": "sagemath"
  },
  "language_info": {
   "codemirror_mode": {
    "name": "ipython",
    "version": 3
   },
   "file_extension": ".py",
   "mimetype": "text/x-python",
   "name": "python",
   "nbconvert_exporter": "python",
   "pygments_lexer": "ipython3",
   "version": "3.7.7"
  }
 },
 "nbformat": 4,
 "nbformat_minor": 4
}

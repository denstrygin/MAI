{
 "cells": [
  {
   "cell_type": "markdown",
   "metadata": {},
   "source": [
    "Должны привести уравнение к виду:\n",
    "$$x^3 + a\\cdot x^2 + b\\cdot x + c = 0$$\n",
    "Сделать замену:\n",
    "$x = z - \\frac{a}{3}$\n",
    "Получим:\n",
    "$$z^3 + p\\cdot z + q = 0$$\n",
    "Вычисляем:\n",
    "$$u = \\left(-\\frac{q}{2} + \\left(\\frac{q^2}{4} + \\frac{p^3}{27}\\right)^{1/2}\\right)^{1/3}$$\n",
    "$$v = \\left(-\\frac{q}{2} - \\left(\\frac{q^2}{4} + \\frac{p^3}{27}\\right)^{1/2}\\right)^{1/3}$$\n",
    "\n",
    "Берем u1 (где u1 -  какое-то значение u)<br>\n",
    "v1 вычисляем из $3\\cdot u\\cdot v + p = 0$<br>\n",
    "Вычисляем $\\varepsilon = -1/2 + i\\cdot\\frac{\\sqrt{3}}{2}$\n",
    "<br><br>\n",
    "Корни z:<br>\n",
    "$z1 = u1 + v1$<br>\n",
    "$z2 = u1\\cdot \\varepsilon + v1\\cdot \\varepsilon^2$<br>\n",
    "$z3 = v1\\cdot \\varepsilon + u1\\cdot \\varepsilon^2$<br>\n",
    "<br><br>\n",
    "И далее возвращаемся к замене $x = z - \\frac{a}{3}$\n"
   ]
  },
  {
   "cell_type": "code",
   "execution_count": 1,
   "metadata": {},
   "outputs": [
    {
     "data": {
      "text/html": [
       "<html><script type=\"math/tex; mode=display\">\\newcommand{\\Bold}[1]{\\mathbf{#1}}\\frac{1}{4} \\, x^{3} + \\frac{3}{4} \\, x^{2} - \\frac{3}{2} \\, x - 2</script></html>"
      ],
      "text/plain": [
       "1/4*x^3 + 3/4*x^2 - 3/2*x - 2"
      ]
     },
     "metadata": {},
     "output_type": "display_data"
    },
    {
     "data": {
      "image/png": "[encoded data removed]",
      "text/plain": [
       "Graphics object consisting of 1 graphics primitive"
      ]
     },
     "execution_count": 1,
     "metadata": {},
     "output_type": "execute_result"
    }
   ],
   "source": [
    "poly_x = (x**3 + 3*x**2 - 6*x - 8)/4\n",
    "show(poly_x)\n",
    "plot(poly_x, (x, -5, 3))"
   ]
  },
  {
   "cell_type": "code",
   "execution_count": 2,
   "metadata": {},
   "outputs": [
    {
     "data": {
      "text/html": [
       "<html><script type=\"math/tex; mode=display\">\\newcommand{\\Bold}[1]{\\mathbf{#1}}x^{3} + 3 \\, x^{2} - 6 \\, x - 8</script></html>"
      ],
      "text/plain": [
       "x^3 + 3*x^2 - 6*x - 8"
      ]
     },
     "metadata": {},
     "output_type": "display_data"
    }
   ],
   "source": [
    "poly_x *= 4\n",
    "show(poly_x)"
   ]
  },
  {
   "cell_type": "markdown",
   "metadata": {},
   "source": [
    "Сделаем замену x = z - a/3"
   ]
  },
  {
   "cell_type": "markdown",
   "metadata": {},
   "source": [
    "у нас a = 3<br>\n",
    "Отсюда: x = z - (a/3) = z - 1"
   ]
  },
  {
   "cell_type": "code",
   "execution_count": 3,
   "metadata": {},
   "outputs": [],
   "source": [
    "var(\"z\")\n",
    "poly_z = poly_x(x = z - 1)"
   ]
  },
  {
   "cell_type": "code",
   "execution_count": 4,
   "metadata": {},
   "outputs": [
    {
     "data": {
      "text/plain": [
       "(z - 1)^3 + 3*(z - 1)^2 - 6*z - 2"
      ]
     },
     "execution_count": 4,
     "metadata": {},
     "output_type": "execute_result"
    }
   ],
   "source": [
    "poly_z"
   ]
  },
  {
   "cell_type": "code",
   "execution_count": 5,
   "metadata": {},
   "outputs": [
    {
     "data": {
      "text/html": [
       "<html><script type=\"math/tex; mode=display\">\\newcommand{\\Bold}[1]{\\mathbf{#1}}z^{3} - 9 \\, z</script></html>"
      ],
      "text/plain": [
       "z^3 - 9*z"
      ]
     },
     "metadata": {},
     "output_type": "display_data"
    }
   ],
   "source": [
    "show(poly_z.expand().simplify())"
   ]
  },
  {
   "cell_type": "markdown",
   "metadata": {},
   "source": [
    "$z^3 + p\\cdot z + q = 0$<br>\n",
    "Отсюда:<br>\n",
    "$p = -9$<br>\n",
    "$q = 0$"
   ]
  },
  {
   "cell_type": "code",
   "execution_count": 6,
   "metadata": {},
   "outputs": [],
   "source": [
    "pq = {'p': -9, 'q': 0}"
   ]
  },
  {
   "cell_type": "markdown",
   "metadata": {},
   "source": [
    "Вычисляем:\n",
    "$$u = \\left(-\\frac{q}{2} + \\left(\\frac{q^2}{4} + \\frac{p^3}{27}\\right)^{1/2}\\right)^{1/3}$$\n",
    "$$v = \\left(-\\frac{q}{2} - \\left(\\frac{q^2}{4} + \\frac{p^3}{27}\\right)^{1/2}\\right)^{1/3}$$"
   ]
  },
  {
   "cell_type": "code",
   "execution_count": 7,
   "metadata": {},
   "outputs": [],
   "source": [
    "def safe_cubic_root(_in_param):\n",
    "    if _in_param.imag():\n",
    "        # sgn для комплексного числа выдаст ошибку в дальнейшем, когда будет вызван numerical_approx\n",
    "        # поэтому придется просто возводить в степень\n",
    "        return (_in_param)**(1/3)\n",
    "    else:\n",
    "        return sgn(_in_param)*(abs(_in_param)**(1/3))"
   ]
  },
  {
   "cell_type": "code",
   "execution_count": 8,
   "metadata": {},
   "outputs": [],
   "source": [
    "var(\"p q da\")\n",
    "# da - выносим отдельно и объявляем _после_ формул \"u\" и \"v\"\n",
    "# потому как так отлаживать удобнее\n",
    "u_pre = -q/2 + sqrt(da)\n",
    "v_pre = -q/2 - sqrt(da)\n",
    "da = q**2/4 + p**3/27"
   ]
  },
  {
   "cell_type": "code",
   "execution_count": 9,
   "metadata": {},
   "outputs": [
    {
     "data": {
      "text/html": [
       "<html><script type=\"math/tex; mode=display\">\\newcommand{\\Bold}[1]{\\mathbf{#1}}\\frac{1}{27} \\, p^{3} + \\frac{1}{4} \\, q^{2}</script></html>"
      ],
      "text/plain": [
       "1/27*p^3 + 1/4*q^2"
      ]
     },
     "metadata": {},
     "output_type": "display_data"
    }
   ],
   "source": [
    "show(da)"
   ]
  },
  {
   "cell_type": "code",
   "execution_count": 10,
   "metadata": {},
   "outputs": [
    {
     "data": {
      "text/html": [
       "<html><script type=\"math/tex; mode=display\">\\newcommand{\\Bold}[1]{\\mathbf{#1}}-27</script></html>"
      ],
      "text/plain": [
       "-27"
      ]
     },
     "metadata": {},
     "output_type": "display_data"
    }
   ],
   "source": [
    "show(da(**pq))"
   ]
  },
  {
   "cell_type": "markdown",
   "metadata": {},
   "source": [
    "Берем u1 (где u1 -  какое-то значение u)<br>"
   ]
  },
  {
   "cell_type": "code",
   "execution_count": 11,
   "metadata": {},
   "outputs": [
    {
     "data": {
      "text/html": [
       "<html><script type=\"math/tex; mode=display\">\\newcommand{\\Bold}[1]{\\mathbf{#1}}\\verb|da|\\phantom{\\verb!x!}\\verb|=| -27</script></html>"
      ],
      "text/plain": [
       "'da = ' -27"
      ]
     },
     "metadata": {},
     "output_type": "display_data"
    },
    {
     "data": {
      "text/html": [
       "<html><script type=\"math/tex; mode=display\">\\newcommand{\\Bold}[1]{\\mathbf{#1}}\\verb|u1|\\phantom{\\verb!x!}\\verb|=| 1.50 + 0.866i</script></html>"
      ],
      "text/plain": [
       "'u1 = ' 1.50 + 0.866*I"
      ]
     },
     "metadata": {},
     "output_type": "display_data"
    }
   ],
   "source": [
    "show(\"da = \", da(**pq))\n",
    "u1 = safe_cubic_root(u_pre(**pq, da=da(**pq)))\n",
    "show(\"u1 = \", u1.n(digits=3))"
   ]
  },
  {
   "cell_type": "code",
   "execution_count": null,
   "metadata": {},
   "outputs": [],
   "source": []
  },
  {
   "cell_type": "code",
   "execution_count": 12,
   "metadata": {},
   "outputs": [
    {
     "data": {
      "text/html": [
       "<html><script type=\"math/tex; mode=display\">\\newcommand{\\Bold}[1]{\\mathbf{#1}}\\verb|u1|\\phantom{\\verb!x!}\\verb|=| 1.8 + 1.0i</script></html>"
      ],
      "text/plain": [
       "'u1 = ' 1.8 + 1.0*I"
      ]
     },
     "metadata": {},
     "output_type": "display_data"
    },
    {
     "data": {
      "text/html": [
       "<html><script type=\"math/tex; mode=display\">\\newcommand{\\Bold}[1]{\\mathbf{#1}}\\verb|u1|\\phantom{\\verb!x!}\\verb|=| 1.8 + 1.0i</script></html>"
      ],
      "text/plain": [
       "'u1 = ' 1.8 + 1.0*I"
      ]
     },
     "metadata": {},
     "output_type": "display_data"
    }
   ],
   "source": [
    "# неправильно:\n",
    "show(\"u1 = \", u1.n(4))\n",
    "show(\"u1 = \", u1.n(prec=4))"
   ]
  },
  {
   "cell_type": "code",
   "execution_count": 13,
   "metadata": {},
   "outputs": [
    {
     "data": {
      "text/html": [
       "<html><script type=\"math/tex; mode=display\">\\newcommand{\\Bold}[1]{\\mathbf{#1}}\\verb|u1|\\phantom{\\verb!x!}\\verb|=| 1.5 + 0.87i</script></html>"
      ],
      "text/plain": [
       "'u1 = ' 1.5 + 0.87*I"
      ]
     },
     "metadata": {},
     "output_type": "display_data"
    }
   ],
   "source": [
    "# правильно:\n",
    "show(\"u1 = \", u1.n(digits=2))"
   ]
  },
  {
   "cell_type": "code",
   "execution_count": 14,
   "metadata": {},
   "outputs": [
    {
     "data": {
      "text/html": [
       "<html><script type=\"math/tex; mode=display\">\\newcommand{\\Bold}[1]{\\mathbf{#1}}\\verb|u1_2|\\phantom{\\verb!x!}\\verb|=| 1.500 + 0.8660i</script></html>"
      ],
      "text/plain": [
       "'u1_2 = ' 1.500 + 0.8660*I"
      ]
     },
     "metadata": {},
     "output_type": "display_data"
    }
   ],
   "source": [
    "# u1 так или иначе комплексное, потому придется все же считать обычным путем:\n",
    "u1_2 = u_pre(**pq, da=da(**pq))**(1/3)\n",
    "\n",
    "show(\"u1_2 = \", u1_2.n(digits=4))"
   ]
  },
  {
   "cell_type": "code",
   "execution_count": 15,
   "metadata": {},
   "outputs": [
    {
     "data": {
      "text/html": [
       "<html><script type=\"math/tex; mode=display\">\\newcommand{\\Bold}[1]{\\mathbf{#1}}1.06057523872491 \\times 10^{-16} + 1.73205080756888i</script></html>"
      ],
      "text/plain": [
       "1.06057523872491e-16 + 1.73205080756888*I"
      ]
     },
     "metadata": {},
     "output_type": "display_data"
    }
   ],
   "source": [
    "# ! даже относящийся к знаку числа минус\n",
    "# имеет приоритет ниже оператора степени\n",
    "i1 = -27**(1/3)\n",
    "i2 = sqrt(i1)\n",
    "show(i2.n())"
   ]
  },
  {
   "cell_type": "code",
   "execution_count": 16,
   "metadata": {},
   "outputs": [
    {
     "data": {
      "text/html": [
       "<html><script type=\"math/tex; mode=display\">\\newcommand{\\Bold}[1]{\\mathbf{#1}}1.06057523872491 \\times 10^{-16} + 1.73205080756888i</script></html>"
      ],
      "text/plain": [
       "1.06057523872491e-16 + 1.73205080756888*I"
      ]
     },
     "metadata": {},
     "output_type": "display_data"
    }
   ],
   "source": [
    "j1 = sqrt(-(27**(1/3)))\n",
    "show(j1.n())"
   ]
  },
  {
   "cell_type": "code",
   "execution_count": 17,
   "metadata": {},
   "outputs": [
    {
     "data": {
      "text/html": [
       "<html><script type=\"math/tex; mode=display\">\\newcommand{\\Bold}[1]{\\mathbf{#1}}1.50000000000000 + 0.866025403784438i</script></html>"
      ],
      "text/plain": [
       "1.50000000000000 + 0.866025403784438*I"
      ]
     },
     "metadata": {},
     "output_type": "display_data"
    }
   ],
   "source": [
    "show((-27)**(1/6).n())"
   ]
  },
  {
   "cell_type": "markdown",
   "metadata": {},
   "source": [
    "v1 вычисляем из $3\\cdot u\\cdot v + p = 0$<br>"
   ]
  },
  {
   "cell_type": "code",
   "execution_count": 18,
   "metadata": {},
   "outputs": [
    {
     "data": {
      "text/html": [
       "<html><script type=\"math/tex; mode=display\">\\newcommand{\\Bold}[1]{\\mathbf{#1}}3^{\\frac{1}{3}} \\left(-\\sqrt{-3}\\right)^{\\frac{1}{3}}</script></html>"
      ],
      "text/plain": [
       "3^(1/3)*(-sqrt(-3))^(1/3)"
      ]
     },
     "metadata": {},
     "output_type": "display_data"
    },
    {
     "data": {
      "text/html": [
       "<html><script type=\"math/tex; mode=display\">\\newcommand{\\Bold}[1]{\\mathbf{#1}}1.500 - 0.8660i</script></html>"
      ],
      "text/plain": [
       "1.500 - 0.8660*I"
      ]
     },
     "metadata": {},
     "output_type": "display_data"
    }
   ],
   "source": [
    "v1=safe_cubic_root(v_pre(**pq, da=da(**pq)))\n",
    "show(v1)\n",
    "show(v1.n(digits=4))"
   ]
  },
  {
   "cell_type": "code",
   "execution_count": 19,
   "metadata": {},
   "outputs": [
    {
     "data": {
      "text/html": [
       "<html><script type=\"math/tex; mode=display\">\\newcommand{\\Bold}[1]{\\mathbf{#1}}1.500 - 0.8660i</script></html>"
      ],
      "text/plain": [
       "1.500 - 0.8660*I"
      ]
     },
     "metadata": {},
     "output_type": "display_data"
    }
   ],
   "source": [
    "# v1 так или иначе комплексное, потому придется все же считать обычным путем:\n",
    "v1_2 = v_pre(**pq, da=da(**pq))**(1/3)\n",
    "\n",
    "show(v1_2.n(digits=4))"
   ]
  },
  {
   "cell_type": "code",
   "execution_count": 20,
   "metadata": {},
   "outputs": [
    {
     "data": {
      "text/html": [
       "<html><script type=\"math/tex; mode=display\">\\newcommand{\\Bold}[1]{\\mathbf{#1}}-\\frac{1}{3} \\cdot 3^{\\frac{2}{3}} \\left(-3\\right)^{\\frac{5}{6}}</script></html>"
      ],
      "text/plain": [
       "-1/3*3^(2/3)*(-3)^(5/6)"
      ]
     },
     "metadata": {},
     "output_type": "display_data"
    },
    {
     "data": {
      "text/html": [
       "<html><script type=\"math/tex; mode=display\">\\newcommand{\\Bold}[1]{\\mathbf{#1}}1.500 - 0.8660i</script></html>"
      ],
      "text/plain": [
       "1.500 - 0.8660*I"
      ]
     },
     "metadata": {},
     "output_type": "display_data"
    }
   ],
   "source": [
    "# ! здесь было просто \n",
    "# v1_func = -p/(3*u)\n",
    "# что приводило сразу к символьному расчету на месте, вместо создания функции и затем пересчета значения\n",
    "def v1_func(_p, _u):\n",
    "    return -_p/(3*_u)\n",
    "\n",
    "\n",
    "v1 = v1_func(_p=pq['p'], _u=u1_2)\n",
    "show(v1)\n",
    "show(v1.n(digits=4))"
   ]
  },
  {
   "cell_type": "markdown",
   "metadata": {},
   "source": [
    "Вычисляем $\\varepsilon = -1/2 + i\\cdot\\frac{\\sqrt{3}}{2}$"
   ]
  },
  {
   "cell_type": "code",
   "execution_count": 21,
   "metadata": {},
   "outputs": [
    {
     "data": {
      "text/html": [
       "<html><script type=\"math/tex; mode=display\">\\newcommand{\\Bold}[1]{\\mathbf{#1}}\\frac{1}{2} \\, \\sqrt{-3} - \\frac{1}{2}</script></html>"
      ],
      "text/plain": [
       "1/2*sqrt(-3) - 1/2"
      ]
     },
     "metadata": {},
     "output_type": "display_data"
    }
   ],
   "source": [
    "Eps = -1/2 + (sqrt(-3))/2\n",
    "show(Eps)"
   ]
  },
  {
   "cell_type": "markdown",
   "metadata": {},
   "source": [
    "Корни z:<br>\n",
    "$z1 = u1 + v1$<br>\n",
    "$z2 = u1\\cdot \\varepsilon + v1\\cdot \\varepsilon^2$<br>\n",
    "$z3 = v1\\cdot \\varepsilon + u1\\cdot \\varepsilon^2$<br>"
   ]
  },
  {
   "cell_type": "code",
   "execution_count": 32,
   "metadata": {},
   "outputs": [
    {
     "data": {
      "text/html": [
       "<html><script type=\"math/tex; mode=display\">\\newcommand{\\Bold}[1]{\\mathbf{#1}}\\verb|z0|\\phantom{\\verb!x!}\\verb|=| -\\sqrt{3} \\left(-1\\right)^{\\frac{5}{6}} + \\sqrt{3} \\left(-1\\right)^{\\frac{1}{6}}</script></html>"
      ],
      "text/plain": [
       "'z0 = ' -sqrt(3)*(-1)^(5/6) + sqrt(3)*(-1)^(1/6)"
      ]
     },
     "metadata": {},
     "output_type": "display_data"
    },
    {
     "data": {
      "text/html": [
       "<html><script type=\"math/tex; mode=display\">\\newcommand{\\Bold}[1]{\\mathbf{#1}}\\verb|z1|\\phantom{\\verb!x!}\\verb|=| -\\frac{1}{4} \\, \\sqrt{3} \\left(-1\\right)^{\\frac{5}{6}} {\\left(i \\, \\sqrt{3} - 1\\right)}^{2} + \\frac{1}{2} \\, \\sqrt{3} \\left(-1\\right)^{\\frac{1}{6}} {\\left(i \\, \\sqrt{3} - 1\\right)}</script></html>"
      ],
      "text/plain": [
       "'z1 = ' -1/4*sqrt(3)*(-1)^(5/6)*(I*sqrt(3) - 1)^2 + 1/2*sqrt(3)*(-1)^(1/6)*(I*sqrt(3) - 1)"
      ]
     },
     "metadata": {},
     "output_type": "display_data"
    },
    {
     "data": {
      "text/html": [
       "<html><script type=\"math/tex; mode=display\">\\newcommand{\\Bold}[1]{\\mathbf{#1}}\\verb|z2|\\phantom{\\verb!x!}\\verb|=| \\frac{1}{4} \\, \\sqrt{3} \\left(-1\\right)^{\\frac{1}{6}} {\\left(i \\, \\sqrt{3} - 1\\right)}^{2} - \\frac{1}{2} \\, \\sqrt{3} \\left(-1\\right)^{\\frac{5}{6}} {\\left(i \\, \\sqrt{3} - 1\\right)}</script></html>"
      ],
      "text/plain": [
       "'z2 = ' 1/4*sqrt(3)*(-1)^(1/6)*(I*sqrt(3) - 1)^2 - 1/2*sqrt(3)*(-1)^(5/6)*(I*sqrt(3) - 1)"
      ]
     },
     "metadata": {},
     "output_type": "display_data"
    },
    {
     "data": {
      "text/html": [
       "<html><script type=\"math/tex; mode=display\">\\newcommand{\\Bold}[1]{\\mathbf{#1}}\\verb|z0|\\phantom{\\verb!x!}\\verb|=| 3.000 + 0.00001526i</script></html>"
      ],
      "text/plain": [
       "'z0 = ' 3.000 + 0.00001526*I"
      ]
     },
     "metadata": {},
     "output_type": "display_data"
    },
    {
     "data": {
      "text/html": [
       "<html><script type=\"math/tex; mode=display\">\\newcommand{\\Bold}[1]{\\mathbf{#1}}\\verb|z1|\\phantom{\\verb!x!}\\verb|=| -3.000 - 0.00005341i</script></html>"
      ],
      "text/plain": [
       "'z1 = ' -3.000 - 0.00005341*I"
      ]
     },
     "metadata": {},
     "output_type": "display_data"
    },
    {
     "data": {
      "text/html": [
       "<html><script type=\"math/tex; mode=display\">\\newcommand{\\Bold}[1]{\\mathbf{#1}}\\verb|z2|\\phantom{\\verb!x!}\\verb|=| -0.00002867 - 0.00004578i</script></html>"
      ],
      "text/plain": [
       "'z2 = ' -0.00002867 - 0.00004578*I"
      ]
     },
     "metadata": {},
     "output_type": "display_data"
    }
   ],
   "source": [
    "z = [u1 + v1\n",
    "     , u1*Eps + v1*Eps**2\n",
    "     , v1*Eps + u1*Eps**2\n",
    "    ]\n",
    "\n",
    "for i, zi in enumerate(z):\n",
    "    show(f\"z{i} = \", zi.simplify())\n",
    "\n",
    "for i, zi in enumerate(z):\n",
    "    show(f\"z{i} = \", zi.n(digits=4))"
   ]
  },
  {
   "cell_type": "code",
   "execution_count": 33,
   "metadata": {},
   "outputs": [
    {
     "data": {
      "text/plain": [
       "(z - 1)^3 + 3*(z - 1)^2 - 6*z - 2"
      ]
     },
     "execution_count": 33,
     "metadata": {},
     "output_type": "execute_result"
    }
   ],
   "source": [
    "poly_z"
   ]
  },
  {
   "cell_type": "code",
   "execution_count": 35,
   "metadata": {},
   "outputs": [
    {
     "data": {
      "text/html": [
       "<html><script type=\"math/tex; mode=display\">\\newcommand{\\Bold}[1]{\\mathbf{#1}}z^{3} - 9 \\, z</script></html>"
      ],
      "text/plain": [
       "z^3 - 9*z"
      ]
     },
     "metadata": {},
     "output_type": "display_data"
    },
    {
     "data": {
      "text/plain": [
       "[t == -3, t == 3, t == 0]"
      ]
     },
     "execution_count": 35,
     "metadata": {},
     "output_type": "execute_result"
    }
   ],
   "source": [
    "var(\"t\")\n",
    "show(poly_z.expand())\n",
    "solve(poly_z(z=t), t)"
   ]
  },
  {
   "cell_type": "markdown",
   "metadata": {},
   "source": [
    "Теперь ищем D, чтобы сверить, какие корни получились, какие должны быть и пр.:<br>\n",
    "D < 0: 1 действительный, два комплексных корня<br>\n",
    "D == 0: три действительных корня, два из них равные<br>\n",
    "D > 0 - три действительных и различных"
   ]
  },
  {
   "cell_type": "code",
   "execution_count": 36,
   "metadata": {},
   "outputs": [],
   "source": [
    "D = -4*p**3 - 27*q**2"
   ]
  },
  {
   "cell_type": "code",
   "execution_count": 37,
   "metadata": {},
   "outputs": [
    {
     "data": {
      "text/plain": [
       "2916"
      ]
     },
     "execution_count": 37,
     "metadata": {},
     "output_type": "execute_result"
    }
   ],
   "source": [
    "D(**pq)"
   ]
  },
  {
   "cell_type": "markdown",
   "metadata": {},
   "source": [
    "Вернемся к подстановке: x = z - a/3"
   ]
  },
  {
   "cell_type": "code",
   "execution_count": 38,
   "metadata": {},
   "outputs": [
    {
     "data": {
      "text/html": [
       "<html><script type=\"math/tex; mode=display\">\\newcommand{\\Bold}[1]{\\mathbf{#1}}\\verb|x0|\\phantom{\\verb!x!}\\verb|=| 2.000 + 0.00001526i</script></html>"
      ],
      "text/plain": [
       "'x0 = ' 2.000 + 0.00001526*I"
      ]
     },
     "metadata": {},
     "output_type": "display_data"
    },
    {
     "data": {
      "text/html": [
       "<html><script type=\"math/tex; mode=display\">\\newcommand{\\Bold}[1]{\\mathbf{#1}}\\verb|x1|\\phantom{\\verb!x!}\\verb|=| -4.000 - 0.00005341i</script></html>"
      ],
      "text/plain": [
       "'x1 = ' -4.000 - 0.00005341*I"
      ]
     },
     "metadata": {},
     "output_type": "display_data"
    },
    {
     "data": {
      "text/html": [
       "<html><script type=\"math/tex; mode=display\">\\newcommand{\\Bold}[1]{\\mathbf{#1}}\\verb|x2|\\phantom{\\verb!x!}\\verb|=| -1.000 - 0.00004578i</script></html>"
      ],
      "text/plain": [
       "'x2 = ' -1.000 - 0.00004578*I"
      ]
     },
     "metadata": {},
     "output_type": "display_data"
    }
   ],
   "source": [
    "a = 3\n",
    "\n",
    "\n",
    "def from_z_to_x(_z, _a):\n",
    "    return _z - _a/3\n",
    "\n",
    "\n",
    "for i, zi in enumerate(z):\n",
    "    xi = from_z_to_x(_z=zi, _a=a)\n",
    "    show(f\"x{i} = \", xi.n(digits=4))"
   ]
  },
  {
   "cell_type": "code",
   "execution_count": 40,
   "metadata": {},
   "outputs": [
    {
     "data": {
      "text/plain": [
       "[x == 2, x == -1, x == -4]"
      ]
     },
     "execution_count": 40,
     "metadata": {},
     "output_type": "execute_result"
    }
   ],
   "source": [
    "var(\"x\")\n",
    "solve(poly_x(), x)"
   ]
  }
 ],
 "metadata": {
  "kernelspec": {
   "display_name": "SageMath 9.1",
   "language": "sage",
   "name": "sagemath"
  },
  "language_info": {
   "codemirror_mode": {
    "name": "ipython",
    "version": 3
   },
   "file_extension": ".py",
   "mimetype": "text/x-python",
   "name": "python",
   "nbconvert_exporter": "python",
   "pygments_lexer": "ipython3",
   "version": "3.7.3"
  }
 },
 "nbformat": 4,
 "nbformat_minor": 2
}
